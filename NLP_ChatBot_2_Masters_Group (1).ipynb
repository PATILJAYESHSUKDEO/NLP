{
  "nbformat": 4,
  "nbformat_minor": 0,
  "metadata": {
    "colab": {
      "name": "NLP ChatBot 2 Masters Group",
      "provenance": [],
      "collapsed_sections": []
    },
    "kernelspec": {
      "name": "python3",
      "display_name": "Python 3"
    },
    "language_info": {
      "name": "python"
    },
    "accelerator": "GPU"
  },
  "cells": [
    {
      "cell_type": "code",
      "source": [
        "from google.colab import drive\n",
        "drive.mount('/content/drive')"
      ],
      "metadata": {
        "colab": {
          "base_uri": "https://localhost:8080/"
        },
        "id": "FtRNrlAOSrRr",
        "outputId": "49eb7e62-4ba3-41cb-f559-24ab0a4be498"
      },
      "execution_count": null,
      "outputs": [
        {
          "output_type": "stream",
          "name": "stdout",
          "text": [
            "Mounted at /content/drive\n"
          ]
        }
      ]
    },
    {
      "cell_type": "markdown",
      "source": [
        "# New Section"
      ],
      "metadata": {
        "id": "PyzjyyBQdEZf"
      }
    },
    {
      "cell_type": "code",
      "source": [
        "cd /content/drive/MyDrive/Datasets"
      ],
      "metadata": {
        "id": "Q8k2YBlIfiXY",
        "colab": {
          "base_uri": "https://localhost:8080/"
        },
        "outputId": "cdc04e3a-1bda-405d-83da-c3ae1cb2ddb7"
      },
      "execution_count": null,
      "outputs": [
        {
          "output_type": "stream",
          "name": "stdout",
          "text": [
            "/content/drive/MyDrive/Datasets\n"
          ]
        }
      ]
    },
    {
      "cell_type": "code",
      "source": [
        "!pip install tflearn"
      ],
      "metadata": {
        "colab": {
          "base_uri": "https://localhost:8080/"
        },
        "id": "SoGPLEaEzErY",
        "outputId": "40c6f16b-5bd6-4f2e-af4a-4c3987b4ee29"
      },
      "execution_count": null,
      "outputs": [
        {
          "output_type": "stream",
          "name": "stdout",
          "text": [
            "Collecting tflearn\n",
            "  Downloading tflearn-0.5.0.tar.gz (107 kB)\n",
            "\u001b[?25l\r\u001b[K     |███                             | 10 kB 22.0 MB/s eta 0:00:01\r\u001b[K     |██████                          | 20 kB 8.3 MB/s eta 0:00:01\r\u001b[K     |█████████▏                      | 30 kB 7.5 MB/s eta 0:00:01\r\u001b[K     |████████████▏                   | 40 kB 3.6 MB/s eta 0:00:01\r\u001b[K     |███████████████▎                | 51 kB 3.6 MB/s eta 0:00:01\r\u001b[K     |██████████████████▎             | 61 kB 4.3 MB/s eta 0:00:01\r\u001b[K     |█████████████████████▍          | 71 kB 4.5 MB/s eta 0:00:01\r\u001b[K     |████████████████████████▍       | 81 kB 4.7 MB/s eta 0:00:01\r\u001b[K     |███████████████████████████▌    | 92 kB 5.3 MB/s eta 0:00:01\r\u001b[K     |██████████████████████████████▌ | 102 kB 4.3 MB/s eta 0:00:01\r\u001b[K     |████████████████████████████████| 107 kB 4.3 MB/s \n",
            "\u001b[?25hRequirement already satisfied: numpy in /usr/local/lib/python3.7/dist-packages (from tflearn) (1.21.6)\n",
            "Requirement already satisfied: six in /usr/local/lib/python3.7/dist-packages (from tflearn) (1.15.0)\n",
            "Requirement already satisfied: Pillow in /usr/local/lib/python3.7/dist-packages (from tflearn) (7.1.2)\n",
            "Building wheels for collected packages: tflearn\n",
            "  Building wheel for tflearn (setup.py) ... \u001b[?25l\u001b[?25hdone\n",
            "  Created wheel for tflearn: filename=tflearn-0.5.0-py3-none-any.whl size=127299 sha256=4fbb08d7e94f9508fb58e639da876290ba1b36dadfa367ecf76272fc78866054\n",
            "  Stored in directory: /root/.cache/pip/wheels/5f/14/2e/1d8e28cc47a5a931a2fb82438c9e37ef9246cc6a3774520271\n",
            "Successfully built tflearn\n",
            "Installing collected packages: tflearn\n",
            "Successfully installed tflearn-0.5.0\n"
          ]
        }
      ]
    },
    {
      "cell_type": "code",
      "source": [
        "import nltk\n",
        "from nltk.stem.lancaster import LancasterStemmer\n",
        "import numpy\n",
        "import tflearn\n",
        "import tensorflow\n",
        "import random\n",
        "import json\n",
        "import pickle\n",
        "nltk.download('punkt')\n",
        "import spacy\n",
        "nlp = spacy.load('en_core_web_sm')"
      ],
      "metadata": {
        "colab": {
          "base_uri": "https://localhost:8080/"
        },
        "id": "HUcCssQtzEwg",
        "outputId": "c9866498-28b2-4cd3-80fb-f5cf5469e5ac"
      },
      "execution_count": null,
      "outputs": [
        {
          "output_type": "stream",
          "name": "stdout",
          "text": [
            "WARNING:tensorflow:From /usr/local/lib/python3.7/dist-packages/tensorflow/python/compat/v2_compat.py:107: disable_resource_variables (from tensorflow.python.ops.variable_scope) is deprecated and will be removed in a future version.\n",
            "Instructions for updating:\n",
            "non-resource variables are not supported in the long term\n",
            "[nltk_data] Downloading package punkt to /root/nltk_data...\n",
            "[nltk_data]   Unzipping tokenizers/punkt.zip.\n"
          ]
        }
      ]
    },
    {
      "cell_type": "code",
      "source": [
        "stemmer = LancasterStemmer()"
      ],
      "metadata": {
        "id": "wr_237VTzoUQ"
      },
      "execution_count": null,
      "outputs": []
    },
    {
      "cell_type": "code",
      "source": [
        "words = []\n",
        "labels = []\n",
        "docs_x = []\n",
        "docs_y = []"
      ],
      "metadata": {
        "id": "ftZ20CE0z4Q8"
      },
      "execution_count": null,
      "outputs": []
    },
    {
      "cell_type": "code",
      "source": [
        "with open(\"bank.json\") as file:\n",
        "    data= json.load(file)"
      ],
      "metadata": {
        "id": "FlfFUcUBCjV2"
      },
      "execution_count": null,
      "outputs": []
    },
    {
      "cell_type": "code",
      "source": [
        "for intent in data[\"intents\"]:\n",
        "    for pattern in intent[\"patterns\"]:\n",
        "        wrds = nltk.word_tokenize(pattern)\n",
        "        words.extend(wrds)\n",
        "        docs_x.append(wrds)\n",
        "        docs_y.append(intent[\"tag\"])\n",
        "    print(f'docs_x: {docs_x}, docs_y: {docs_y}, Words: {words}')\n",
        "\n",
        "\n",
        "    if intent[\"tag\"] not in labels:\n",
        "        labels.append(intent[\"tag\"])\n",
        "    print(f'labels: {labels}')\n",
        "    \n",
        "words = [stemmer.stem(w.lower()) for w in words if w != \"?\"]\n",
        "words = sorted(list(set(words)))\n",
        "labels = sorted(labels)\n",
        "training = []\n",
        "output = []\n",
        "out_empty = [0 for _ in range(len(labels))]"
      ],
      "metadata": {
        "colab": {
          "base_uri": "https://localhost:8080/"
        },
        "id": "nielJc_PzoX3",
        "outputId": "ed964829-2d2e-41d7-a826-c1de7f5b047d"
      },
      "execution_count": null,
      "outputs": [
        {
          "output_type": "stream",
          "name": "stdout",
          "text": [
            "docs_x: [['Hi'], ['How', 'are', 'you'], ['Is', 'anyone', 'there', '?'], ['Hello'], ['Namaste'], ['please', 'help'], ['Give', 'me', 'solution']], docs_y: ['Welcome', 'Welcome', 'Welcome', 'Welcome', 'Welcome', 'Welcome', 'Welcome'], Words: ['Hi', 'How', 'are', 'you', 'Is', 'anyone', 'there', '?', 'Hello', 'Namaste', 'please', 'help', 'Give', 'me', 'solution']\n",
            "labels: ['Welcome']\n",
            "docs_x: [['Hi'], ['How', 'are', 'you'], ['Is', 'anyone', 'there', '?'], ['Hello'], ['Namaste'], ['please', 'help'], ['Give', 'me', 'solution'], ['How', 'can', 'you', 'help', 'me', '?'], ['What', 'services', 'can', 'you', 'provide'], ['Tell', 'me', 'something', 'about', 'your', 'bank'], ['Are', 'any', 'services', 'available'], ['i', 'dont', 'think', 'you', 'can', 'help', 'me'], ['You', 'are', 'just', 'a', 'bot', 'how', 'can', 'you', 'help', 'me', '?']], docs_y: ['Welcome', 'Welcome', 'Welcome', 'Welcome', 'Welcome', 'Welcome', 'Welcome', 'Services', 'Services', 'Services', 'Services', 'Services', 'Services'], Words: ['Hi', 'How', 'are', 'you', 'Is', 'anyone', 'there', '?', 'Hello', 'Namaste', 'please', 'help', 'Give', 'me', 'solution', 'How', 'can', 'you', 'help', 'me', '?', 'What', 'services', 'can', 'you', 'provide', 'Tell', 'me', 'something', 'about', 'your', 'bank', 'Are', 'any', 'services', 'available', 'i', 'dont', 'think', 'you', 'can', 'help', 'me', 'You', 'are', 'just', 'a', 'bot', 'how', 'can', 'you', 'help', 'me', '?']\n",
            "labels: ['Welcome', 'Services']\n",
            "docs_x: [['Hi'], ['How', 'are', 'you'], ['Is', 'anyone', 'there', '?'], ['Hello'], ['Namaste'], ['please', 'help'], ['Give', 'me', 'solution'], ['How', 'can', 'you', 'help', 'me', '?'], ['What', 'services', 'can', 'you', 'provide'], ['Tell', 'me', 'something', 'about', 'your', 'bank'], ['Are', 'any', 'services', 'available'], ['i', 'dont', 'think', 'you', 'can', 'help', 'me'], ['You', 'are', 'just', 'a', 'bot', 'how', 'can', 'you', 'help', 'me', '?'], ['I', 'wan', 'na', 'open', 'an', 'Savings', 'account'], ['Process', 'for', 'Savings', 'account'], ['I', 'want', 'to', 'open', 'Savings', 'acount'], ['Can', 'i', 'open', 'Savings', 'account', 'here', '?'], ['Is', 'Savings', 'account', 'available', 'here', '?'], ['Is', 'Savings', 'account', 'possible'], ['Saving', 'account', '?', '?']], docs_y: ['Welcome', 'Welcome', 'Welcome', 'Welcome', 'Welcome', 'Welcome', 'Welcome', 'Services', 'Services', 'Services', 'Services', 'Services', 'Services', ' Savings Account services', ' Savings Account services', ' Savings Account services', ' Savings Account services', ' Savings Account services', ' Savings Account services', ' Savings Account services'], Words: ['Hi', 'How', 'are', 'you', 'Is', 'anyone', 'there', '?', 'Hello', 'Namaste', 'please', 'help', 'Give', 'me', 'solution', 'How', 'can', 'you', 'help', 'me', '?', 'What', 'services', 'can', 'you', 'provide', 'Tell', 'me', 'something', 'about', 'your', 'bank', 'Are', 'any', 'services', 'available', 'i', 'dont', 'think', 'you', 'can', 'help', 'me', 'You', 'are', 'just', 'a', 'bot', 'how', 'can', 'you', 'help', 'me', '?', 'I', 'wan', 'na', 'open', 'an', 'Savings', 'account', 'Process', 'for', 'Savings', 'account', 'I', 'want', 'to', 'open', 'Savings', 'acount', 'Can', 'i', 'open', 'Savings', 'account', 'here', '?', 'Is', 'Savings', 'account', 'available', 'here', '?', 'Is', 'Savings', 'account', 'possible', 'Saving', 'account', '?', '?']\n",
            "labels: ['Welcome', 'Services', ' Savings Account services']\n",
            "docs_x: [['Hi'], ['How', 'are', 'you'], ['Is', 'anyone', 'there', '?'], ['Hello'], ['Namaste'], ['please', 'help'], ['Give', 'me', 'solution'], ['How', 'can', 'you', 'help', 'me', '?'], ['What', 'services', 'can', 'you', 'provide'], ['Tell', 'me', 'something', 'about', 'your', 'bank'], ['Are', 'any', 'services', 'available'], ['i', 'dont', 'think', 'you', 'can', 'help', 'me'], ['You', 'are', 'just', 'a', 'bot', 'how', 'can', 'you', 'help', 'me', '?'], ['I', 'wan', 'na', 'open', 'an', 'Savings', 'account'], ['Process', 'for', 'Savings', 'account'], ['I', 'want', 'to', 'open', 'Savings', 'acount'], ['Can', 'i', 'open', 'Savings', 'account', 'here', '?'], ['Is', 'Savings', 'account', 'available', 'here', '?'], ['Is', 'Savings', 'account', 'possible'], ['Saving', 'account', '?', '?'], ['I', 'wan', 'na', 'open', 'an', 'Current', 'account'], ['Process', 'for', 'Current', 'account'], ['I', 'want', 'to', 'open', 'Current', 'acount'], ['Can', 'i', 'open', 'Current', 'account', 'here', '?'], ['Is', 'Current', 'account', 'available', 'here', '?'], ['Is', 'Current', 'account', 'possible'], ['Saving', 'account', '?', '?']], docs_y: ['Welcome', 'Welcome', 'Welcome', 'Welcome', 'Welcome', 'Welcome', 'Welcome', 'Services', 'Services', 'Services', 'Services', 'Services', 'Services', ' Savings Account services', ' Savings Account services', ' Savings Account services', ' Savings Account services', ' Savings Account services', ' Savings Account services', ' Savings Account services', ' Current Account services', ' Current Account services', ' Current Account services', ' Current Account services', ' Current Account services', ' Current Account services', ' Current Account services'], Words: ['Hi', 'How', 'are', 'you', 'Is', 'anyone', 'there', '?', 'Hello', 'Namaste', 'please', 'help', 'Give', 'me', 'solution', 'How', 'can', 'you', 'help', 'me', '?', 'What', 'services', 'can', 'you', 'provide', 'Tell', 'me', 'something', 'about', 'your', 'bank', 'Are', 'any', 'services', 'available', 'i', 'dont', 'think', 'you', 'can', 'help', 'me', 'You', 'are', 'just', 'a', 'bot', 'how', 'can', 'you', 'help', 'me', '?', 'I', 'wan', 'na', 'open', 'an', 'Savings', 'account', 'Process', 'for', 'Savings', 'account', 'I', 'want', 'to', 'open', 'Savings', 'acount', 'Can', 'i', 'open', 'Savings', 'account', 'here', '?', 'Is', 'Savings', 'account', 'available', 'here', '?', 'Is', 'Savings', 'account', 'possible', 'Saving', 'account', '?', '?', 'I', 'wan', 'na', 'open', 'an', 'Current', 'account', 'Process', 'for', 'Current', 'account', 'I', 'want', 'to', 'open', 'Current', 'acount', 'Can', 'i', 'open', 'Current', 'account', 'here', '?', 'Is', 'Current', 'account', 'available', 'here', '?', 'Is', 'Current', 'account', 'possible', 'Saving', 'account', '?', '?']\n",
            "labels: ['Welcome', 'Services', ' Savings Account services', ' Current Account services']\n",
            "docs_x: [['Hi'], ['How', 'are', 'you'], ['Is', 'anyone', 'there', '?'], ['Hello'], ['Namaste'], ['please', 'help'], ['Give', 'me', 'solution'], ['How', 'can', 'you', 'help', 'me', '?'], ['What', 'services', 'can', 'you', 'provide'], ['Tell', 'me', 'something', 'about', 'your', 'bank'], ['Are', 'any', 'services', 'available'], ['i', 'dont', 'think', 'you', 'can', 'help', 'me'], ['You', 'are', 'just', 'a', 'bot', 'how', 'can', 'you', 'help', 'me', '?'], ['I', 'wan', 'na', 'open', 'an', 'Savings', 'account'], ['Process', 'for', 'Savings', 'account'], ['I', 'want', 'to', 'open', 'Savings', 'acount'], ['Can', 'i', 'open', 'Savings', 'account', 'here', '?'], ['Is', 'Savings', 'account', 'available', 'here', '?'], ['Is', 'Savings', 'account', 'possible'], ['Saving', 'account', '?', '?'], ['I', 'wan', 'na', 'open', 'an', 'Current', 'account'], ['Process', 'for', 'Current', 'account'], ['I', 'want', 'to', 'open', 'Current', 'acount'], ['Can', 'i', 'open', 'Current', 'account', 'here', '?'], ['Is', 'Current', 'account', 'available', 'here', '?'], ['Is', 'Current', 'account', 'possible'], ['Saving', 'account', '?', '?'], ['I', 'wan', 'na', 'open', 'an', 'Global', 'account'], ['Process', 'for', 'Global', 'account'], ['I', 'want', 'to', 'open', 'Global', 'acount'], ['Can', 'i', 'open', 'Global', 'account', 'here', '?'], ['Is', 'Global', 'account', 'available', 'here', '?'], ['Is', 'Global', 'account', 'possible'], ['Global', 'account', '?', '?']], docs_y: ['Welcome', 'Welcome', 'Welcome', 'Welcome', 'Welcome', 'Welcome', 'Welcome', 'Services', 'Services', 'Services', 'Services', 'Services', 'Services', ' Savings Account services', ' Savings Account services', ' Savings Account services', ' Savings Account services', ' Savings Account services', ' Savings Account services', ' Savings Account services', ' Current Account services', ' Current Account services', ' Current Account services', ' Current Account services', ' Current Account services', ' Current Account services', ' Current Account services', ' Global Account services', ' Global Account services', ' Global Account services', ' Global Account services', ' Global Account services', ' Global Account services', ' Global Account services'], Words: ['Hi', 'How', 'are', 'you', 'Is', 'anyone', 'there', '?', 'Hello', 'Namaste', 'please', 'help', 'Give', 'me', 'solution', 'How', 'can', 'you', 'help', 'me', '?', 'What', 'services', 'can', 'you', 'provide', 'Tell', 'me', 'something', 'about', 'your', 'bank', 'Are', 'any', 'services', 'available', 'i', 'dont', 'think', 'you', 'can', 'help', 'me', 'You', 'are', 'just', 'a', 'bot', 'how', 'can', 'you', 'help', 'me', '?', 'I', 'wan', 'na', 'open', 'an', 'Savings', 'account', 'Process', 'for', 'Savings', 'account', 'I', 'want', 'to', 'open', 'Savings', 'acount', 'Can', 'i', 'open', 'Savings', 'account', 'here', '?', 'Is', 'Savings', 'account', 'available', 'here', '?', 'Is', 'Savings', 'account', 'possible', 'Saving', 'account', '?', '?', 'I', 'wan', 'na', 'open', 'an', 'Current', 'account', 'Process', 'for', 'Current', 'account', 'I', 'want', 'to', 'open', 'Current', 'acount', 'Can', 'i', 'open', 'Current', 'account', 'here', '?', 'Is', 'Current', 'account', 'available', 'here', '?', 'Is', 'Current', 'account', 'possible', 'Saving', 'account', '?', '?', 'I', 'wan', 'na', 'open', 'an', 'Global', 'account', 'Process', 'for', 'Global', 'account', 'I', 'want', 'to', 'open', 'Global', 'acount', 'Can', 'i', 'open', 'Global', 'account', 'here', '?', 'Is', 'Global', 'account', 'available', 'here', '?', 'Is', 'Global', 'account', 'possible', 'Global', 'account', '?', '?']\n",
            "labels: ['Welcome', 'Services', ' Savings Account services', ' Current Account services', ' Global Account services']\n",
            "docs_x: [['Hi'], ['How', 'are', 'you'], ['Is', 'anyone', 'there', '?'], ['Hello'], ['Namaste'], ['please', 'help'], ['Give', 'me', 'solution'], ['How', 'can', 'you', 'help', 'me', '?'], ['What', 'services', 'can', 'you', 'provide'], ['Tell', 'me', 'something', 'about', 'your', 'bank'], ['Are', 'any', 'services', 'available'], ['i', 'dont', 'think', 'you', 'can', 'help', 'me'], ['You', 'are', 'just', 'a', 'bot', 'how', 'can', 'you', 'help', 'me', '?'], ['I', 'wan', 'na', 'open', 'an', 'Savings', 'account'], ['Process', 'for', 'Savings', 'account'], ['I', 'want', 'to', 'open', 'Savings', 'acount'], ['Can', 'i', 'open', 'Savings', 'account', 'here', '?'], ['Is', 'Savings', 'account', 'available', 'here', '?'], ['Is', 'Savings', 'account', 'possible'], ['Saving', 'account', '?', '?'], ['I', 'wan', 'na', 'open', 'an', 'Current', 'account'], ['Process', 'for', 'Current', 'account'], ['I', 'want', 'to', 'open', 'Current', 'acount'], ['Can', 'i', 'open', 'Current', 'account', 'here', '?'], ['Is', 'Current', 'account', 'available', 'here', '?'], ['Is', 'Current', 'account', 'possible'], ['Saving', 'account', '?', '?'], ['I', 'wan', 'na', 'open', 'an', 'Global', 'account'], ['Process', 'for', 'Global', 'account'], ['I', 'want', 'to', 'open', 'Global', 'acount'], ['Can', 'i', 'open', 'Global', 'account', 'here', '?'], ['Is', 'Global', 'account', 'available', 'here', '?'], ['Is', 'Global', 'account', 'possible'], ['Global', 'account', '?', '?'], ['I', 'wan', 'na', 'open', 'an', 'Minor', 'account'], ['Process', 'for', 'Minor', 'account'], ['I', 'want', 'to', 'open', 'Minor', 'acount'], ['Can', 'i', 'open', 'Minor', 'account', 'here', '?'], ['Is', 'Minor', 'account', 'available', 'here', '?'], ['Is', 'Minor', 'account', 'possible'], ['Minor', 'account', '?', '?']], docs_y: ['Welcome', 'Welcome', 'Welcome', 'Welcome', 'Welcome', 'Welcome', 'Welcome', 'Services', 'Services', 'Services', 'Services', 'Services', 'Services', ' Savings Account services', ' Savings Account services', ' Savings Account services', ' Savings Account services', ' Savings Account services', ' Savings Account services', ' Savings Account services', ' Current Account services', ' Current Account services', ' Current Account services', ' Current Account services', ' Current Account services', ' Current Account services', ' Current Account services', ' Global Account services', ' Global Account services', ' Global Account services', ' Global Account services', ' Global Account services', ' Global Account services', ' Global Account services', ' Minor Account services', ' Minor Account services', ' Minor Account services', ' Minor Account services', ' Minor Account services', ' Minor Account services', ' Minor Account services'], Words: ['Hi', 'How', 'are', 'you', 'Is', 'anyone', 'there', '?', 'Hello', 'Namaste', 'please', 'help', 'Give', 'me', 'solution', 'How', 'can', 'you', 'help', 'me', '?', 'What', 'services', 'can', 'you', 'provide', 'Tell', 'me', 'something', 'about', 'your', 'bank', 'Are', 'any', 'services', 'available', 'i', 'dont', 'think', 'you', 'can', 'help', 'me', 'You', 'are', 'just', 'a', 'bot', 'how', 'can', 'you', 'help', 'me', '?', 'I', 'wan', 'na', 'open', 'an', 'Savings', 'account', 'Process', 'for', 'Savings', 'account', 'I', 'want', 'to', 'open', 'Savings', 'acount', 'Can', 'i', 'open', 'Savings', 'account', 'here', '?', 'Is', 'Savings', 'account', 'available', 'here', '?', 'Is', 'Savings', 'account', 'possible', 'Saving', 'account', '?', '?', 'I', 'wan', 'na', 'open', 'an', 'Current', 'account', 'Process', 'for', 'Current', 'account', 'I', 'want', 'to', 'open', 'Current', 'acount', 'Can', 'i', 'open', 'Current', 'account', 'here', '?', 'Is', 'Current', 'account', 'available', 'here', '?', 'Is', 'Current', 'account', 'possible', 'Saving', 'account', '?', '?', 'I', 'wan', 'na', 'open', 'an', 'Global', 'account', 'Process', 'for', 'Global', 'account', 'I', 'want', 'to', 'open', 'Global', 'acount', 'Can', 'i', 'open', 'Global', 'account', 'here', '?', 'Is', 'Global', 'account', 'available', 'here', '?', 'Is', 'Global', 'account', 'possible', 'Global', 'account', '?', '?', 'I', 'wan', 'na', 'open', 'an', 'Minor', 'account', 'Process', 'for', 'Minor', 'account', 'I', 'want', 'to', 'open', 'Minor', 'acount', 'Can', 'i', 'open', 'Minor', 'account', 'here', '?', 'Is', 'Minor', 'account', 'available', 'here', '?', 'Is', 'Minor', 'account', 'possible', 'Minor', 'account', '?', '?']\n",
            "labels: ['Welcome', 'Services', ' Savings Account services', ' Current Account services', ' Global Account services', ' Minor Account services']\n",
            "docs_x: [['Hi'], ['How', 'are', 'you'], ['Is', 'anyone', 'there', '?'], ['Hello'], ['Namaste'], ['please', 'help'], ['Give', 'me', 'solution'], ['How', 'can', 'you', 'help', 'me', '?'], ['What', 'services', 'can', 'you', 'provide'], ['Tell', 'me', 'something', 'about', 'your', 'bank'], ['Are', 'any', 'services', 'available'], ['i', 'dont', 'think', 'you', 'can', 'help', 'me'], ['You', 'are', 'just', 'a', 'bot', 'how', 'can', 'you', 'help', 'me', '?'], ['I', 'wan', 'na', 'open', 'an', 'Savings', 'account'], ['Process', 'for', 'Savings', 'account'], ['I', 'want', 'to', 'open', 'Savings', 'acount'], ['Can', 'i', 'open', 'Savings', 'account', 'here', '?'], ['Is', 'Savings', 'account', 'available', 'here', '?'], ['Is', 'Savings', 'account', 'possible'], ['Saving', 'account', '?', '?'], ['I', 'wan', 'na', 'open', 'an', 'Current', 'account'], ['Process', 'for', 'Current', 'account'], ['I', 'want', 'to', 'open', 'Current', 'acount'], ['Can', 'i', 'open', 'Current', 'account', 'here', '?'], ['Is', 'Current', 'account', 'available', 'here', '?'], ['Is', 'Current', 'account', 'possible'], ['Saving', 'account', '?', '?'], ['I', 'wan', 'na', 'open', 'an', 'Global', 'account'], ['Process', 'for', 'Global', 'account'], ['I', 'want', 'to', 'open', 'Global', 'acount'], ['Can', 'i', 'open', 'Global', 'account', 'here', '?'], ['Is', 'Global', 'account', 'available', 'here', '?'], ['Is', 'Global', 'account', 'possible'], ['Global', 'account', '?', '?'], ['I', 'wan', 'na', 'open', 'an', 'Minor', 'account'], ['Process', 'for', 'Minor', 'account'], ['I', 'want', 'to', 'open', 'Minor', 'acount'], ['Can', 'i', 'open', 'Minor', 'account', 'here', '?'], ['Is', 'Minor', 'account', 'available', 'here', '?'], ['Is', 'Minor', 'account', 'possible'], ['Minor', 'account', '?', '?'], ['I', 'wan', 'na', 'open', 'an', 'joint', 'account'], ['Process', 'for', 'joint', 'account'], ['I', 'want', 'to', 'open', 'joint', 'acount'], ['Can', 'i', 'open', 'joint', 'account', 'here', '?'], ['Is', 'joint', 'account', 'available', 'here', '?'], ['Is', 'joint', 'account', 'possible'], ['joint', 'account', '?', '?']], docs_y: ['Welcome', 'Welcome', 'Welcome', 'Welcome', 'Welcome', 'Welcome', 'Welcome', 'Services', 'Services', 'Services', 'Services', 'Services', 'Services', ' Savings Account services', ' Savings Account services', ' Savings Account services', ' Savings Account services', ' Savings Account services', ' Savings Account services', ' Savings Account services', ' Current Account services', ' Current Account services', ' Current Account services', ' Current Account services', ' Current Account services', ' Current Account services', ' Current Account services', ' Global Account services', ' Global Account services', ' Global Account services', ' Global Account services', ' Global Account services', ' Global Account services', ' Global Account services', ' Minor Account services', ' Minor Account services', ' Minor Account services', ' Minor Account services', ' Minor Account services', ' Minor Account services', ' Minor Account services', ' joint Account services', ' joint Account services', ' joint Account services', ' joint Account services', ' joint Account services', ' joint Account services', ' joint Account services'], Words: ['Hi', 'How', 'are', 'you', 'Is', 'anyone', 'there', '?', 'Hello', 'Namaste', 'please', 'help', 'Give', 'me', 'solution', 'How', 'can', 'you', 'help', 'me', '?', 'What', 'services', 'can', 'you', 'provide', 'Tell', 'me', 'something', 'about', 'your', 'bank', 'Are', 'any', 'services', 'available', 'i', 'dont', 'think', 'you', 'can', 'help', 'me', 'You', 'are', 'just', 'a', 'bot', 'how', 'can', 'you', 'help', 'me', '?', 'I', 'wan', 'na', 'open', 'an', 'Savings', 'account', 'Process', 'for', 'Savings', 'account', 'I', 'want', 'to', 'open', 'Savings', 'acount', 'Can', 'i', 'open', 'Savings', 'account', 'here', '?', 'Is', 'Savings', 'account', 'available', 'here', '?', 'Is', 'Savings', 'account', 'possible', 'Saving', 'account', '?', '?', 'I', 'wan', 'na', 'open', 'an', 'Current', 'account', 'Process', 'for', 'Current', 'account', 'I', 'want', 'to', 'open', 'Current', 'acount', 'Can', 'i', 'open', 'Current', 'account', 'here', '?', 'Is', 'Current', 'account', 'available', 'here', '?', 'Is', 'Current', 'account', 'possible', 'Saving', 'account', '?', '?', 'I', 'wan', 'na', 'open', 'an', 'Global', 'account', 'Process', 'for', 'Global', 'account', 'I', 'want', 'to', 'open', 'Global', 'acount', 'Can', 'i', 'open', 'Global', 'account', 'here', '?', 'Is', 'Global', 'account', 'available', 'here', '?', 'Is', 'Global', 'account', 'possible', 'Global', 'account', '?', '?', 'I', 'wan', 'na', 'open', 'an', 'Minor', 'account', 'Process', 'for', 'Minor', 'account', 'I', 'want', 'to', 'open', 'Minor', 'acount', 'Can', 'i', 'open', 'Minor', 'account', 'here', '?', 'Is', 'Minor', 'account', 'available', 'here', '?', 'Is', 'Minor', 'account', 'possible', 'Minor', 'account', '?', '?', 'I', 'wan', 'na', 'open', 'an', 'joint', 'account', 'Process', 'for', 'joint', 'account', 'I', 'want', 'to', 'open', 'joint', 'acount', 'Can', 'i', 'open', 'joint', 'account', 'here', '?', 'Is', 'joint', 'account', 'available', 'here', '?', 'Is', 'joint', 'account', 'possible', 'joint', 'account', '?', '?']\n",
            "labels: ['Welcome', 'Services', ' Savings Account services', ' Current Account services', ' Global Account services', ' Minor Account services', ' joint Account services']\n",
            "docs_x: [['Hi'], ['How', 'are', 'you'], ['Is', 'anyone', 'there', '?'], ['Hello'], ['Namaste'], ['please', 'help'], ['Give', 'me', 'solution'], ['How', 'can', 'you', 'help', 'me', '?'], ['What', 'services', 'can', 'you', 'provide'], ['Tell', 'me', 'something', 'about', 'your', 'bank'], ['Are', 'any', 'services', 'available'], ['i', 'dont', 'think', 'you', 'can', 'help', 'me'], ['You', 'are', 'just', 'a', 'bot', 'how', 'can', 'you', 'help', 'me', '?'], ['I', 'wan', 'na', 'open', 'an', 'Savings', 'account'], ['Process', 'for', 'Savings', 'account'], ['I', 'want', 'to', 'open', 'Savings', 'acount'], ['Can', 'i', 'open', 'Savings', 'account', 'here', '?'], ['Is', 'Savings', 'account', 'available', 'here', '?'], ['Is', 'Savings', 'account', 'possible'], ['Saving', 'account', '?', '?'], ['I', 'wan', 'na', 'open', 'an', 'Current', 'account'], ['Process', 'for', 'Current', 'account'], ['I', 'want', 'to', 'open', 'Current', 'acount'], ['Can', 'i', 'open', 'Current', 'account', 'here', '?'], ['Is', 'Current', 'account', 'available', 'here', '?'], ['Is', 'Current', 'account', 'possible'], ['Saving', 'account', '?', '?'], ['I', 'wan', 'na', 'open', 'an', 'Global', 'account'], ['Process', 'for', 'Global', 'account'], ['I', 'want', 'to', 'open', 'Global', 'acount'], ['Can', 'i', 'open', 'Global', 'account', 'here', '?'], ['Is', 'Global', 'account', 'available', 'here', '?'], ['Is', 'Global', 'account', 'possible'], ['Global', 'account', '?', '?'], ['I', 'wan', 'na', 'open', 'an', 'Minor', 'account'], ['Process', 'for', 'Minor', 'account'], ['I', 'want', 'to', 'open', 'Minor', 'acount'], ['Can', 'i', 'open', 'Minor', 'account', 'here', '?'], ['Is', 'Minor', 'account', 'available', 'here', '?'], ['Is', 'Minor', 'account', 'possible'], ['Minor', 'account', '?', '?'], ['I', 'wan', 'na', 'open', 'an', 'joint', 'account'], ['Process', 'for', 'joint', 'account'], ['I', 'want', 'to', 'open', 'joint', 'acount'], ['Can', 'i', 'open', 'joint', 'account', 'here', '?'], ['Is', 'joint', 'account', 'available', 'here', '?'], ['Is', 'joint', 'account', 'possible'], ['joint', 'account', '?', '?'], ['I', 'want', 'car', 'loan'], ['Can', 'i', 'get', 'education', 'loan'], ['process', 'for', 'home', 'laon'], ['I', 'need', 'home', 'loan'], ['what', 'is', 'the', 'process', 'for', 'car', 'loan', '?'], ['Is', 'Rural', 'loan', 'available'], ['Loans', 'avaiable', 'in', 'your', 'bank'], ['I', 'want', 'personal', 'loan'], ['Gold', 'loan', 'is', 'available', '?']], docs_y: ['Welcome', 'Welcome', 'Welcome', 'Welcome', 'Welcome', 'Welcome', 'Welcome', 'Services', 'Services', 'Services', 'Services', 'Services', 'Services', ' Savings Account services', ' Savings Account services', ' Savings Account services', ' Savings Account services', ' Savings Account services', ' Savings Account services', ' Savings Account services', ' Current Account services', ' Current Account services', ' Current Account services', ' Current Account services', ' Current Account services', ' Current Account services', ' Current Account services', ' Global Account services', ' Global Account services', ' Global Account services', ' Global Account services', ' Global Account services', ' Global Account services', ' Global Account services', ' Minor Account services', ' Minor Account services', ' Minor Account services', ' Minor Account services', ' Minor Account services', ' Minor Account services', ' Minor Account services', ' joint Account services', ' joint Account services', ' joint Account services', ' joint Account services', ' joint Account services', ' joint Account services', ' joint Account services', 'Loan services', 'Loan services', 'Loan services', 'Loan services', 'Loan services', 'Loan services', 'Loan services', 'Loan services', 'Loan services'], Words: ['Hi', 'How', 'are', 'you', 'Is', 'anyone', 'there', '?', 'Hello', 'Namaste', 'please', 'help', 'Give', 'me', 'solution', 'How', 'can', 'you', 'help', 'me', '?', 'What', 'services', 'can', 'you', 'provide', 'Tell', 'me', 'something', 'about', 'your', 'bank', 'Are', 'any', 'services', 'available', 'i', 'dont', 'think', 'you', 'can', 'help', 'me', 'You', 'are', 'just', 'a', 'bot', 'how', 'can', 'you', 'help', 'me', '?', 'I', 'wan', 'na', 'open', 'an', 'Savings', 'account', 'Process', 'for', 'Savings', 'account', 'I', 'want', 'to', 'open', 'Savings', 'acount', 'Can', 'i', 'open', 'Savings', 'account', 'here', '?', 'Is', 'Savings', 'account', 'available', 'here', '?', 'Is', 'Savings', 'account', 'possible', 'Saving', 'account', '?', '?', 'I', 'wan', 'na', 'open', 'an', 'Current', 'account', 'Process', 'for', 'Current', 'account', 'I', 'want', 'to', 'open', 'Current', 'acount', 'Can', 'i', 'open', 'Current', 'account', 'here', '?', 'Is', 'Current', 'account', 'available', 'here', '?', 'Is', 'Current', 'account', 'possible', 'Saving', 'account', '?', '?', 'I', 'wan', 'na', 'open', 'an', 'Global', 'account', 'Process', 'for', 'Global', 'account', 'I', 'want', 'to', 'open', 'Global', 'acount', 'Can', 'i', 'open', 'Global', 'account', 'here', '?', 'Is', 'Global', 'account', 'available', 'here', '?', 'Is', 'Global', 'account', 'possible', 'Global', 'account', '?', '?', 'I', 'wan', 'na', 'open', 'an', 'Minor', 'account', 'Process', 'for', 'Minor', 'account', 'I', 'want', 'to', 'open', 'Minor', 'acount', 'Can', 'i', 'open', 'Minor', 'account', 'here', '?', 'Is', 'Minor', 'account', 'available', 'here', '?', 'Is', 'Minor', 'account', 'possible', 'Minor', 'account', '?', '?', 'I', 'wan', 'na', 'open', 'an', 'joint', 'account', 'Process', 'for', 'joint', 'account', 'I', 'want', 'to', 'open', 'joint', 'acount', 'Can', 'i', 'open', 'joint', 'account', 'here', '?', 'Is', 'joint', 'account', 'available', 'here', '?', 'Is', 'joint', 'account', 'possible', 'joint', 'account', '?', '?', 'I', 'want', 'car', 'loan', 'Can', 'i', 'get', 'education', 'loan', 'process', 'for', 'home', 'laon', 'I', 'need', 'home', 'loan', 'what', 'is', 'the', 'process', 'for', 'car', 'loan', '?', 'Is', 'Rural', 'loan', 'available', 'Loans', 'avaiable', 'in', 'your', 'bank', 'I', 'want', 'personal', 'loan', 'Gold', 'loan', 'is', 'available', '?']\n",
            "labels: ['Welcome', 'Services', ' Savings Account services', ' Current Account services', ' Global Account services', ' Minor Account services', ' joint Account services', 'Loan services']\n",
            "docs_x: [['Hi'], ['How', 'are', 'you'], ['Is', 'anyone', 'there', '?'], ['Hello'], ['Namaste'], ['please', 'help'], ['Give', 'me', 'solution'], ['How', 'can', 'you', 'help', 'me', '?'], ['What', 'services', 'can', 'you', 'provide'], ['Tell', 'me', 'something', 'about', 'your', 'bank'], ['Are', 'any', 'services', 'available'], ['i', 'dont', 'think', 'you', 'can', 'help', 'me'], ['You', 'are', 'just', 'a', 'bot', 'how', 'can', 'you', 'help', 'me', '?'], ['I', 'wan', 'na', 'open', 'an', 'Savings', 'account'], ['Process', 'for', 'Savings', 'account'], ['I', 'want', 'to', 'open', 'Savings', 'acount'], ['Can', 'i', 'open', 'Savings', 'account', 'here', '?'], ['Is', 'Savings', 'account', 'available', 'here', '?'], ['Is', 'Savings', 'account', 'possible'], ['Saving', 'account', '?', '?'], ['I', 'wan', 'na', 'open', 'an', 'Current', 'account'], ['Process', 'for', 'Current', 'account'], ['I', 'want', 'to', 'open', 'Current', 'acount'], ['Can', 'i', 'open', 'Current', 'account', 'here', '?'], ['Is', 'Current', 'account', 'available', 'here', '?'], ['Is', 'Current', 'account', 'possible'], ['Saving', 'account', '?', '?'], ['I', 'wan', 'na', 'open', 'an', 'Global', 'account'], ['Process', 'for', 'Global', 'account'], ['I', 'want', 'to', 'open', 'Global', 'acount'], ['Can', 'i', 'open', 'Global', 'account', 'here', '?'], ['Is', 'Global', 'account', 'available', 'here', '?'], ['Is', 'Global', 'account', 'possible'], ['Global', 'account', '?', '?'], ['I', 'wan', 'na', 'open', 'an', 'Minor', 'account'], ['Process', 'for', 'Minor', 'account'], ['I', 'want', 'to', 'open', 'Minor', 'acount'], ['Can', 'i', 'open', 'Minor', 'account', 'here', '?'], ['Is', 'Minor', 'account', 'available', 'here', '?'], ['Is', 'Minor', 'account', 'possible'], ['Minor', 'account', '?', '?'], ['I', 'wan', 'na', 'open', 'an', 'joint', 'account'], ['Process', 'for', 'joint', 'account'], ['I', 'want', 'to', 'open', 'joint', 'acount'], ['Can', 'i', 'open', 'joint', 'account', 'here', '?'], ['Is', 'joint', 'account', 'available', 'here', '?'], ['Is', 'joint', 'account', 'possible'], ['joint', 'account', '?', '?'], ['I', 'want', 'car', 'loan'], ['Can', 'i', 'get', 'education', 'loan'], ['process', 'for', 'home', 'laon'], ['I', 'need', 'home', 'loan'], ['what', 'is', 'the', 'process', 'for', 'car', 'loan', '?'], ['Is', 'Rural', 'loan', 'available'], ['Loans', 'avaiable', 'in', 'your', 'bank'], ['I', 'want', 'personal', 'loan'], ['Gold', 'loan', 'is', 'available', '?'], ['I', 'want', 'Credit', 'card'], ['Wan', 'na', 'Apply', 'for', 'debit', 'card'], ['How', 'can', 'apply', 'for', 'Visa', 'card'], ['Process', 'for', 'debit', 'card'], ['How', 'to', 'get', 'mastercard'], ['Your', 'bank', 'provides', 'Mastercard', '?'], ['Is', 'credit', 'card', 'available', '?'], ['What', 'payment', 'services', 'available', '?'], ['Can', 'I', 'use', 'RTGS'], ['Is', 'NEFT', 'available', '?']], docs_y: ['Welcome', 'Welcome', 'Welcome', 'Welcome', 'Welcome', 'Welcome', 'Welcome', 'Services', 'Services', 'Services', 'Services', 'Services', 'Services', ' Savings Account services', ' Savings Account services', ' Savings Account services', ' Savings Account services', ' Savings Account services', ' Savings Account services', ' Savings Account services', ' Current Account services', ' Current Account services', ' Current Account services', ' Current Account services', ' Current Account services', ' Current Account services', ' Current Account services', ' Global Account services', ' Global Account services', ' Global Account services', ' Global Account services', ' Global Account services', ' Global Account services', ' Global Account services', ' Minor Account services', ' Minor Account services', ' Minor Account services', ' Minor Account services', ' Minor Account services', ' Minor Account services', ' Minor Account services', ' joint Account services', ' joint Account services', ' joint Account services', ' joint Account services', ' joint Account services', ' joint Account services', ' joint Account services', 'Loan services', 'Loan services', 'Loan services', 'Loan services', 'Loan services', 'Loan services', 'Loan services', 'Loan services', 'Loan services', 'Payment services', 'Payment services', 'Payment services', 'Payment services', 'Payment services', 'Payment services', 'Payment services', 'Payment services', 'Payment services', 'Payment services'], Words: ['Hi', 'How', 'are', 'you', 'Is', 'anyone', 'there', '?', 'Hello', 'Namaste', 'please', 'help', 'Give', 'me', 'solution', 'How', 'can', 'you', 'help', 'me', '?', 'What', 'services', 'can', 'you', 'provide', 'Tell', 'me', 'something', 'about', 'your', 'bank', 'Are', 'any', 'services', 'available', 'i', 'dont', 'think', 'you', 'can', 'help', 'me', 'You', 'are', 'just', 'a', 'bot', 'how', 'can', 'you', 'help', 'me', '?', 'I', 'wan', 'na', 'open', 'an', 'Savings', 'account', 'Process', 'for', 'Savings', 'account', 'I', 'want', 'to', 'open', 'Savings', 'acount', 'Can', 'i', 'open', 'Savings', 'account', 'here', '?', 'Is', 'Savings', 'account', 'available', 'here', '?', 'Is', 'Savings', 'account', 'possible', 'Saving', 'account', '?', '?', 'I', 'wan', 'na', 'open', 'an', 'Current', 'account', 'Process', 'for', 'Current', 'account', 'I', 'want', 'to', 'open', 'Current', 'acount', 'Can', 'i', 'open', 'Current', 'account', 'here', '?', 'Is', 'Current', 'account', 'available', 'here', '?', 'Is', 'Current', 'account', 'possible', 'Saving', 'account', '?', '?', 'I', 'wan', 'na', 'open', 'an', 'Global', 'account', 'Process', 'for', 'Global', 'account', 'I', 'want', 'to', 'open', 'Global', 'acount', 'Can', 'i', 'open', 'Global', 'account', 'here', '?', 'Is', 'Global', 'account', 'available', 'here', '?', 'Is', 'Global', 'account', 'possible', 'Global', 'account', '?', '?', 'I', 'wan', 'na', 'open', 'an', 'Minor', 'account', 'Process', 'for', 'Minor', 'account', 'I', 'want', 'to', 'open', 'Minor', 'acount', 'Can', 'i', 'open', 'Minor', 'account', 'here', '?', 'Is', 'Minor', 'account', 'available', 'here', '?', 'Is', 'Minor', 'account', 'possible', 'Minor', 'account', '?', '?', 'I', 'wan', 'na', 'open', 'an', 'joint', 'account', 'Process', 'for', 'joint', 'account', 'I', 'want', 'to', 'open', 'joint', 'acount', 'Can', 'i', 'open', 'joint', 'account', 'here', '?', 'Is', 'joint', 'account', 'available', 'here', '?', 'Is', 'joint', 'account', 'possible', 'joint', 'account', '?', '?', 'I', 'want', 'car', 'loan', 'Can', 'i', 'get', 'education', 'loan', 'process', 'for', 'home', 'laon', 'I', 'need', 'home', 'loan', 'what', 'is', 'the', 'process', 'for', 'car', 'loan', '?', 'Is', 'Rural', 'loan', 'available', 'Loans', 'avaiable', 'in', 'your', 'bank', 'I', 'want', 'personal', 'loan', 'Gold', 'loan', 'is', 'available', '?', 'I', 'want', 'Credit', 'card', 'Wan', 'na', 'Apply', 'for', 'debit', 'card', 'How', 'can', 'apply', 'for', 'Visa', 'card', 'Process', 'for', 'debit', 'card', 'How', 'to', 'get', 'mastercard', 'Your', 'bank', 'provides', 'Mastercard', '?', 'Is', 'credit', 'card', 'available', '?', 'What', 'payment', 'services', 'available', '?', 'Can', 'I', 'use', 'RTGS', 'Is', 'NEFT', 'available', '?']\n",
            "labels: ['Welcome', 'Services', ' Savings Account services', ' Current Account services', ' Global Account services', ' Minor Account services', ' joint Account services', 'Loan services', 'Payment services']\n",
            "docs_x: [['Hi'], ['How', 'are', 'you'], ['Is', 'anyone', 'there', '?'], ['Hello'], ['Namaste'], ['please', 'help'], ['Give', 'me', 'solution'], ['How', 'can', 'you', 'help', 'me', '?'], ['What', 'services', 'can', 'you', 'provide'], ['Tell', 'me', 'something', 'about', 'your', 'bank'], ['Are', 'any', 'services', 'available'], ['i', 'dont', 'think', 'you', 'can', 'help', 'me'], ['You', 'are', 'just', 'a', 'bot', 'how', 'can', 'you', 'help', 'me', '?'], ['I', 'wan', 'na', 'open', 'an', 'Savings', 'account'], ['Process', 'for', 'Savings', 'account'], ['I', 'want', 'to', 'open', 'Savings', 'acount'], ['Can', 'i', 'open', 'Savings', 'account', 'here', '?'], ['Is', 'Savings', 'account', 'available', 'here', '?'], ['Is', 'Savings', 'account', 'possible'], ['Saving', 'account', '?', '?'], ['I', 'wan', 'na', 'open', 'an', 'Current', 'account'], ['Process', 'for', 'Current', 'account'], ['I', 'want', 'to', 'open', 'Current', 'acount'], ['Can', 'i', 'open', 'Current', 'account', 'here', '?'], ['Is', 'Current', 'account', 'available', 'here', '?'], ['Is', 'Current', 'account', 'possible'], ['Saving', 'account', '?', '?'], ['I', 'wan', 'na', 'open', 'an', 'Global', 'account'], ['Process', 'for', 'Global', 'account'], ['I', 'want', 'to', 'open', 'Global', 'acount'], ['Can', 'i', 'open', 'Global', 'account', 'here', '?'], ['Is', 'Global', 'account', 'available', 'here', '?'], ['Is', 'Global', 'account', 'possible'], ['Global', 'account', '?', '?'], ['I', 'wan', 'na', 'open', 'an', 'Minor', 'account'], ['Process', 'for', 'Minor', 'account'], ['I', 'want', 'to', 'open', 'Minor', 'acount'], ['Can', 'i', 'open', 'Minor', 'account', 'here', '?'], ['Is', 'Minor', 'account', 'available', 'here', '?'], ['Is', 'Minor', 'account', 'possible'], ['Minor', 'account', '?', '?'], ['I', 'wan', 'na', 'open', 'an', 'joint', 'account'], ['Process', 'for', 'joint', 'account'], ['I', 'want', 'to', 'open', 'joint', 'acount'], ['Can', 'i', 'open', 'joint', 'account', 'here', '?'], ['Is', 'joint', 'account', 'available', 'here', '?'], ['Is', 'joint', 'account', 'possible'], ['joint', 'account', '?', '?'], ['I', 'want', 'car', 'loan'], ['Can', 'i', 'get', 'education', 'loan'], ['process', 'for', 'home', 'laon'], ['I', 'need', 'home', 'loan'], ['what', 'is', 'the', 'process', 'for', 'car', 'loan', '?'], ['Is', 'Rural', 'loan', 'available'], ['Loans', 'avaiable', 'in', 'your', 'bank'], ['I', 'want', 'personal', 'loan'], ['Gold', 'loan', 'is', 'available', '?'], ['I', 'want', 'Credit', 'card'], ['Wan', 'na', 'Apply', 'for', 'debit', 'card'], ['How', 'can', 'apply', 'for', 'Visa', 'card'], ['Process', 'for', 'debit', 'card'], ['How', 'to', 'get', 'mastercard'], ['Your', 'bank', 'provides', 'Mastercard', '?'], ['Is', 'credit', 'card', 'available', '?'], ['What', 'payment', 'services', 'available', '?'], ['Can', 'I', 'use', 'RTGS'], ['Is', 'NEFT', 'available', '?'], ['Insurance', 'plans', 'are', 'available', '?'], ['What', 'types', 'of', 'insurance'], ['Insurances', 'like', 'home', 'insurances', 'available', '?'], ['Your', 'bank', 'offers', 'what', 'type', 'of', 'insurances', '?'], ['Any', 'new', 'types', 'of', 'insurance', '?']], docs_y: ['Welcome', 'Welcome', 'Welcome', 'Welcome', 'Welcome', 'Welcome', 'Welcome', 'Services', 'Services', 'Services', 'Services', 'Services', 'Services', ' Savings Account services', ' Savings Account services', ' Savings Account services', ' Savings Account services', ' Savings Account services', ' Savings Account services', ' Savings Account services', ' Current Account services', ' Current Account services', ' Current Account services', ' Current Account services', ' Current Account services', ' Current Account services', ' Current Account services', ' Global Account services', ' Global Account services', ' Global Account services', ' Global Account services', ' Global Account services', ' Global Account services', ' Global Account services', ' Minor Account services', ' Minor Account services', ' Minor Account services', ' Minor Account services', ' Minor Account services', ' Minor Account services', ' Minor Account services', ' joint Account services', ' joint Account services', ' joint Account services', ' joint Account services', ' joint Account services', ' joint Account services', ' joint Account services', 'Loan services', 'Loan services', 'Loan services', 'Loan services', 'Loan services', 'Loan services', 'Loan services', 'Loan services', 'Loan services', 'Payment services', 'Payment services', 'Payment services', 'Payment services', 'Payment services', 'Payment services', 'Payment services', 'Payment services', 'Payment services', 'Payment services', 'Insurance services', 'Insurance services', 'Insurance services', 'Insurance services', 'Insurance services'], Words: ['Hi', 'How', 'are', 'you', 'Is', 'anyone', 'there', '?', 'Hello', 'Namaste', 'please', 'help', 'Give', 'me', 'solution', 'How', 'can', 'you', 'help', 'me', '?', 'What', 'services', 'can', 'you', 'provide', 'Tell', 'me', 'something', 'about', 'your', 'bank', 'Are', 'any', 'services', 'available', 'i', 'dont', 'think', 'you', 'can', 'help', 'me', 'You', 'are', 'just', 'a', 'bot', 'how', 'can', 'you', 'help', 'me', '?', 'I', 'wan', 'na', 'open', 'an', 'Savings', 'account', 'Process', 'for', 'Savings', 'account', 'I', 'want', 'to', 'open', 'Savings', 'acount', 'Can', 'i', 'open', 'Savings', 'account', 'here', '?', 'Is', 'Savings', 'account', 'available', 'here', '?', 'Is', 'Savings', 'account', 'possible', 'Saving', 'account', '?', '?', 'I', 'wan', 'na', 'open', 'an', 'Current', 'account', 'Process', 'for', 'Current', 'account', 'I', 'want', 'to', 'open', 'Current', 'acount', 'Can', 'i', 'open', 'Current', 'account', 'here', '?', 'Is', 'Current', 'account', 'available', 'here', '?', 'Is', 'Current', 'account', 'possible', 'Saving', 'account', '?', '?', 'I', 'wan', 'na', 'open', 'an', 'Global', 'account', 'Process', 'for', 'Global', 'account', 'I', 'want', 'to', 'open', 'Global', 'acount', 'Can', 'i', 'open', 'Global', 'account', 'here', '?', 'Is', 'Global', 'account', 'available', 'here', '?', 'Is', 'Global', 'account', 'possible', 'Global', 'account', '?', '?', 'I', 'wan', 'na', 'open', 'an', 'Minor', 'account', 'Process', 'for', 'Minor', 'account', 'I', 'want', 'to', 'open', 'Minor', 'acount', 'Can', 'i', 'open', 'Minor', 'account', 'here', '?', 'Is', 'Minor', 'account', 'available', 'here', '?', 'Is', 'Minor', 'account', 'possible', 'Minor', 'account', '?', '?', 'I', 'wan', 'na', 'open', 'an', 'joint', 'account', 'Process', 'for', 'joint', 'account', 'I', 'want', 'to', 'open', 'joint', 'acount', 'Can', 'i', 'open', 'joint', 'account', 'here', '?', 'Is', 'joint', 'account', 'available', 'here', '?', 'Is', 'joint', 'account', 'possible', 'joint', 'account', '?', '?', 'I', 'want', 'car', 'loan', 'Can', 'i', 'get', 'education', 'loan', 'process', 'for', 'home', 'laon', 'I', 'need', 'home', 'loan', 'what', 'is', 'the', 'process', 'for', 'car', 'loan', '?', 'Is', 'Rural', 'loan', 'available', 'Loans', 'avaiable', 'in', 'your', 'bank', 'I', 'want', 'personal', 'loan', 'Gold', 'loan', 'is', 'available', '?', 'I', 'want', 'Credit', 'card', 'Wan', 'na', 'Apply', 'for', 'debit', 'card', 'How', 'can', 'apply', 'for', 'Visa', 'card', 'Process', 'for', 'debit', 'card', 'How', 'to', 'get', 'mastercard', 'Your', 'bank', 'provides', 'Mastercard', '?', 'Is', 'credit', 'card', 'available', '?', 'What', 'payment', 'services', 'available', '?', 'Can', 'I', 'use', 'RTGS', 'Is', 'NEFT', 'available', '?', 'Insurance', 'plans', 'are', 'available', '?', 'What', 'types', 'of', 'insurance', 'Insurances', 'like', 'home', 'insurances', 'available', '?', 'Your', 'bank', 'offers', 'what', 'type', 'of', 'insurances', '?', 'Any', 'new', 'types', 'of', 'insurance', '?']\n",
            "labels: ['Welcome', 'Services', ' Savings Account services', ' Current Account services', ' Global Account services', ' Minor Account services', ' joint Account services', 'Loan services', 'Payment services', 'Insurance services']\n",
            "docs_x: [['Hi'], ['How', 'are', 'you'], ['Is', 'anyone', 'there', '?'], ['Hello'], ['Namaste'], ['please', 'help'], ['Give', 'me', 'solution'], ['How', 'can', 'you', 'help', 'me', '?'], ['What', 'services', 'can', 'you', 'provide'], ['Tell', 'me', 'something', 'about', 'your', 'bank'], ['Are', 'any', 'services', 'available'], ['i', 'dont', 'think', 'you', 'can', 'help', 'me'], ['You', 'are', 'just', 'a', 'bot', 'how', 'can', 'you', 'help', 'me', '?'], ['I', 'wan', 'na', 'open', 'an', 'Savings', 'account'], ['Process', 'for', 'Savings', 'account'], ['I', 'want', 'to', 'open', 'Savings', 'acount'], ['Can', 'i', 'open', 'Savings', 'account', 'here', '?'], ['Is', 'Savings', 'account', 'available', 'here', '?'], ['Is', 'Savings', 'account', 'possible'], ['Saving', 'account', '?', '?'], ['I', 'wan', 'na', 'open', 'an', 'Current', 'account'], ['Process', 'for', 'Current', 'account'], ['I', 'want', 'to', 'open', 'Current', 'acount'], ['Can', 'i', 'open', 'Current', 'account', 'here', '?'], ['Is', 'Current', 'account', 'available', 'here', '?'], ['Is', 'Current', 'account', 'possible'], ['Saving', 'account', '?', '?'], ['I', 'wan', 'na', 'open', 'an', 'Global', 'account'], ['Process', 'for', 'Global', 'account'], ['I', 'want', 'to', 'open', 'Global', 'acount'], ['Can', 'i', 'open', 'Global', 'account', 'here', '?'], ['Is', 'Global', 'account', 'available', 'here', '?'], ['Is', 'Global', 'account', 'possible'], ['Global', 'account', '?', '?'], ['I', 'wan', 'na', 'open', 'an', 'Minor', 'account'], ['Process', 'for', 'Minor', 'account'], ['I', 'want', 'to', 'open', 'Minor', 'acount'], ['Can', 'i', 'open', 'Minor', 'account', 'here', '?'], ['Is', 'Minor', 'account', 'available', 'here', '?'], ['Is', 'Minor', 'account', 'possible'], ['Minor', 'account', '?', '?'], ['I', 'wan', 'na', 'open', 'an', 'joint', 'account'], ['Process', 'for', 'joint', 'account'], ['I', 'want', 'to', 'open', 'joint', 'acount'], ['Can', 'i', 'open', 'joint', 'account', 'here', '?'], ['Is', 'joint', 'account', 'available', 'here', '?'], ['Is', 'joint', 'account', 'possible'], ['joint', 'account', '?', '?'], ['I', 'want', 'car', 'loan'], ['Can', 'i', 'get', 'education', 'loan'], ['process', 'for', 'home', 'laon'], ['I', 'need', 'home', 'loan'], ['what', 'is', 'the', 'process', 'for', 'car', 'loan', '?'], ['Is', 'Rural', 'loan', 'available'], ['Loans', 'avaiable', 'in', 'your', 'bank'], ['I', 'want', 'personal', 'loan'], ['Gold', 'loan', 'is', 'available', '?'], ['I', 'want', 'Credit', 'card'], ['Wan', 'na', 'Apply', 'for', 'debit', 'card'], ['How', 'can', 'apply', 'for', 'Visa', 'card'], ['Process', 'for', 'debit', 'card'], ['How', 'to', 'get', 'mastercard'], ['Your', 'bank', 'provides', 'Mastercard', '?'], ['Is', 'credit', 'card', 'available', '?'], ['What', 'payment', 'services', 'available', '?'], ['Can', 'I', 'use', 'RTGS'], ['Is', 'NEFT', 'available', '?'], ['Insurance', 'plans', 'are', 'available', '?'], ['What', 'types', 'of', 'insurance'], ['Insurances', 'like', 'home', 'insurances', 'available', '?'], ['Your', 'bank', 'offers', 'what', 'type', 'of', 'insurances', '?'], ['Any', 'new', 'types', 'of', 'insurance', '?'], ['What', 'hours', 'are', 'you', 'open', '?'], ['What', 'are', 'your', 'hours', '?'], ['When', 'are', 'you', 'open', '?'], ['When', 'can', 'i', 'contact', 'your', 'bank'], ['customer', 'care', 'time'], ['Bank', 'open', 'time']], docs_y: ['Welcome', 'Welcome', 'Welcome', 'Welcome', 'Welcome', 'Welcome', 'Welcome', 'Services', 'Services', 'Services', 'Services', 'Services', 'Services', ' Savings Account services', ' Savings Account services', ' Savings Account services', ' Savings Account services', ' Savings Account services', ' Savings Account services', ' Savings Account services', ' Current Account services', ' Current Account services', ' Current Account services', ' Current Account services', ' Current Account services', ' Current Account services', ' Current Account services', ' Global Account services', ' Global Account services', ' Global Account services', ' Global Account services', ' Global Account services', ' Global Account services', ' Global Account services', ' Minor Account services', ' Minor Account services', ' Minor Account services', ' Minor Account services', ' Minor Account services', ' Minor Account services', ' Minor Account services', ' joint Account services', ' joint Account services', ' joint Account services', ' joint Account services', ' joint Account services', ' joint Account services', ' joint Account services', 'Loan services', 'Loan services', 'Loan services', 'Loan services', 'Loan services', 'Loan services', 'Loan services', 'Loan services', 'Loan services', 'Payment services', 'Payment services', 'Payment services', 'Payment services', 'Payment services', 'Payment services', 'Payment services', 'Payment services', 'Payment services', 'Payment services', 'Insurance services', 'Insurance services', 'Insurance services', 'Insurance services', 'Insurance services', 'Avaiable', 'Avaiable', 'Avaiable', 'Avaiable', 'Avaiable', 'Avaiable'], Words: ['Hi', 'How', 'are', 'you', 'Is', 'anyone', 'there', '?', 'Hello', 'Namaste', 'please', 'help', 'Give', 'me', 'solution', 'How', 'can', 'you', 'help', 'me', '?', 'What', 'services', 'can', 'you', 'provide', 'Tell', 'me', 'something', 'about', 'your', 'bank', 'Are', 'any', 'services', 'available', 'i', 'dont', 'think', 'you', 'can', 'help', 'me', 'You', 'are', 'just', 'a', 'bot', 'how', 'can', 'you', 'help', 'me', '?', 'I', 'wan', 'na', 'open', 'an', 'Savings', 'account', 'Process', 'for', 'Savings', 'account', 'I', 'want', 'to', 'open', 'Savings', 'acount', 'Can', 'i', 'open', 'Savings', 'account', 'here', '?', 'Is', 'Savings', 'account', 'available', 'here', '?', 'Is', 'Savings', 'account', 'possible', 'Saving', 'account', '?', '?', 'I', 'wan', 'na', 'open', 'an', 'Current', 'account', 'Process', 'for', 'Current', 'account', 'I', 'want', 'to', 'open', 'Current', 'acount', 'Can', 'i', 'open', 'Current', 'account', 'here', '?', 'Is', 'Current', 'account', 'available', 'here', '?', 'Is', 'Current', 'account', 'possible', 'Saving', 'account', '?', '?', 'I', 'wan', 'na', 'open', 'an', 'Global', 'account', 'Process', 'for', 'Global', 'account', 'I', 'want', 'to', 'open', 'Global', 'acount', 'Can', 'i', 'open', 'Global', 'account', 'here', '?', 'Is', 'Global', 'account', 'available', 'here', '?', 'Is', 'Global', 'account', 'possible', 'Global', 'account', '?', '?', 'I', 'wan', 'na', 'open', 'an', 'Minor', 'account', 'Process', 'for', 'Minor', 'account', 'I', 'want', 'to', 'open', 'Minor', 'acount', 'Can', 'i', 'open', 'Minor', 'account', 'here', '?', 'Is', 'Minor', 'account', 'available', 'here', '?', 'Is', 'Minor', 'account', 'possible', 'Minor', 'account', '?', '?', 'I', 'wan', 'na', 'open', 'an', 'joint', 'account', 'Process', 'for', 'joint', 'account', 'I', 'want', 'to', 'open', 'joint', 'acount', 'Can', 'i', 'open', 'joint', 'account', 'here', '?', 'Is', 'joint', 'account', 'available', 'here', '?', 'Is', 'joint', 'account', 'possible', 'joint', 'account', '?', '?', 'I', 'want', 'car', 'loan', 'Can', 'i', 'get', 'education', 'loan', 'process', 'for', 'home', 'laon', 'I', 'need', 'home', 'loan', 'what', 'is', 'the', 'process', 'for', 'car', 'loan', '?', 'Is', 'Rural', 'loan', 'available', 'Loans', 'avaiable', 'in', 'your', 'bank', 'I', 'want', 'personal', 'loan', 'Gold', 'loan', 'is', 'available', '?', 'I', 'want', 'Credit', 'card', 'Wan', 'na', 'Apply', 'for', 'debit', 'card', 'How', 'can', 'apply', 'for', 'Visa', 'card', 'Process', 'for', 'debit', 'card', 'How', 'to', 'get', 'mastercard', 'Your', 'bank', 'provides', 'Mastercard', '?', 'Is', 'credit', 'card', 'available', '?', 'What', 'payment', 'services', 'available', '?', 'Can', 'I', 'use', 'RTGS', 'Is', 'NEFT', 'available', '?', 'Insurance', 'plans', 'are', 'available', '?', 'What', 'types', 'of', 'insurance', 'Insurances', 'like', 'home', 'insurances', 'available', '?', 'Your', 'bank', 'offers', 'what', 'type', 'of', 'insurances', '?', 'Any', 'new', 'types', 'of', 'insurance', '?', 'What', 'hours', 'are', 'you', 'open', '?', 'What', 'are', 'your', 'hours', '?', 'When', 'are', 'you', 'open', '?', 'When', 'can', 'i', 'contact', 'your', 'bank', 'customer', 'care', 'time', 'Bank', 'open', 'time']\n",
            "labels: ['Welcome', 'Services', ' Savings Account services', ' Current Account services', ' Global Account services', ' Minor Account services', ' joint Account services', 'Loan services', 'Payment services', 'Insurance services', 'Avaiable']\n",
            "docs_x: [['Hi'], ['How', 'are', 'you'], ['Is', 'anyone', 'there', '?'], ['Hello'], ['Namaste'], ['please', 'help'], ['Give', 'me', 'solution'], ['How', 'can', 'you', 'help', 'me', '?'], ['What', 'services', 'can', 'you', 'provide'], ['Tell', 'me', 'something', 'about', 'your', 'bank'], ['Are', 'any', 'services', 'available'], ['i', 'dont', 'think', 'you', 'can', 'help', 'me'], ['You', 'are', 'just', 'a', 'bot', 'how', 'can', 'you', 'help', 'me', '?'], ['I', 'wan', 'na', 'open', 'an', 'Savings', 'account'], ['Process', 'for', 'Savings', 'account'], ['I', 'want', 'to', 'open', 'Savings', 'acount'], ['Can', 'i', 'open', 'Savings', 'account', 'here', '?'], ['Is', 'Savings', 'account', 'available', 'here', '?'], ['Is', 'Savings', 'account', 'possible'], ['Saving', 'account', '?', '?'], ['I', 'wan', 'na', 'open', 'an', 'Current', 'account'], ['Process', 'for', 'Current', 'account'], ['I', 'want', 'to', 'open', 'Current', 'acount'], ['Can', 'i', 'open', 'Current', 'account', 'here', '?'], ['Is', 'Current', 'account', 'available', 'here', '?'], ['Is', 'Current', 'account', 'possible'], ['Saving', 'account', '?', '?'], ['I', 'wan', 'na', 'open', 'an', 'Global', 'account'], ['Process', 'for', 'Global', 'account'], ['I', 'want', 'to', 'open', 'Global', 'acount'], ['Can', 'i', 'open', 'Global', 'account', 'here', '?'], ['Is', 'Global', 'account', 'available', 'here', '?'], ['Is', 'Global', 'account', 'possible'], ['Global', 'account', '?', '?'], ['I', 'wan', 'na', 'open', 'an', 'Minor', 'account'], ['Process', 'for', 'Minor', 'account'], ['I', 'want', 'to', 'open', 'Minor', 'acount'], ['Can', 'i', 'open', 'Minor', 'account', 'here', '?'], ['Is', 'Minor', 'account', 'available', 'here', '?'], ['Is', 'Minor', 'account', 'possible'], ['Minor', 'account', '?', '?'], ['I', 'wan', 'na', 'open', 'an', 'joint', 'account'], ['Process', 'for', 'joint', 'account'], ['I', 'want', 'to', 'open', 'joint', 'acount'], ['Can', 'i', 'open', 'joint', 'account', 'here', '?'], ['Is', 'joint', 'account', 'available', 'here', '?'], ['Is', 'joint', 'account', 'possible'], ['joint', 'account', '?', '?'], ['I', 'want', 'car', 'loan'], ['Can', 'i', 'get', 'education', 'loan'], ['process', 'for', 'home', 'laon'], ['I', 'need', 'home', 'loan'], ['what', 'is', 'the', 'process', 'for', 'car', 'loan', '?'], ['Is', 'Rural', 'loan', 'available'], ['Loans', 'avaiable', 'in', 'your', 'bank'], ['I', 'want', 'personal', 'loan'], ['Gold', 'loan', 'is', 'available', '?'], ['I', 'want', 'Credit', 'card'], ['Wan', 'na', 'Apply', 'for', 'debit', 'card'], ['How', 'can', 'apply', 'for', 'Visa', 'card'], ['Process', 'for', 'debit', 'card'], ['How', 'to', 'get', 'mastercard'], ['Your', 'bank', 'provides', 'Mastercard', '?'], ['Is', 'credit', 'card', 'available', '?'], ['What', 'payment', 'services', 'available', '?'], ['Can', 'I', 'use', 'RTGS'], ['Is', 'NEFT', 'available', '?'], ['Insurance', 'plans', 'are', 'available', '?'], ['What', 'types', 'of', 'insurance'], ['Insurances', 'like', 'home', 'insurances', 'available', '?'], ['Your', 'bank', 'offers', 'what', 'type', 'of', 'insurances', '?'], ['Any', 'new', 'types', 'of', 'insurance', '?'], ['What', 'hours', 'are', 'you', 'open', '?'], ['What', 'are', 'your', 'hours', '?'], ['When', 'are', 'you', 'open', '?'], ['When', 'can', 'i', 'contact', 'your', 'bank'], ['customer', 'care', 'time'], ['Bank', 'open', 'time'], ['Where', 'are', 'your', 'branches'], ['Tell', 'me', 'nearest', 'branch'], ['Branch', 'address'], ['Can', 'not', 'find', 'bank'], ['i', 'can', 'not', 'find', 'your', 'branch'], ['Where', 'are', 'your', 'ATMs'], ['ATMs', 'locations']], docs_y: ['Welcome', 'Welcome', 'Welcome', 'Welcome', 'Welcome', 'Welcome', 'Welcome', 'Services', 'Services', 'Services', 'Services', 'Services', 'Services', ' Savings Account services', ' Savings Account services', ' Savings Account services', ' Savings Account services', ' Savings Account services', ' Savings Account services', ' Savings Account services', ' Current Account services', ' Current Account services', ' Current Account services', ' Current Account services', ' Current Account services', ' Current Account services', ' Current Account services', ' Global Account services', ' Global Account services', ' Global Account services', ' Global Account services', ' Global Account services', ' Global Account services', ' Global Account services', ' Minor Account services', ' Minor Account services', ' Minor Account services', ' Minor Account services', ' Minor Account services', ' Minor Account services', ' Minor Account services', ' joint Account services', ' joint Account services', ' joint Account services', ' joint Account services', ' joint Account services', ' joint Account services', ' joint Account services', 'Loan services', 'Loan services', 'Loan services', 'Loan services', 'Loan services', 'Loan services', 'Loan services', 'Loan services', 'Loan services', 'Payment services', 'Payment services', 'Payment services', 'Payment services', 'Payment services', 'Payment services', 'Payment services', 'Payment services', 'Payment services', 'Payment services', 'Insurance services', 'Insurance services', 'Insurance services', 'Insurance services', 'Insurance services', 'Avaiable', 'Avaiable', 'Avaiable', 'Avaiable', 'Avaiable', 'Avaiable', 'Branch', 'Branch', 'Branch', 'Branch', 'Branch', 'Branch', 'Branch'], Words: ['Hi', 'How', 'are', 'you', 'Is', 'anyone', 'there', '?', 'Hello', 'Namaste', 'please', 'help', 'Give', 'me', 'solution', 'How', 'can', 'you', 'help', 'me', '?', 'What', 'services', 'can', 'you', 'provide', 'Tell', 'me', 'something', 'about', 'your', 'bank', 'Are', 'any', 'services', 'available', 'i', 'dont', 'think', 'you', 'can', 'help', 'me', 'You', 'are', 'just', 'a', 'bot', 'how', 'can', 'you', 'help', 'me', '?', 'I', 'wan', 'na', 'open', 'an', 'Savings', 'account', 'Process', 'for', 'Savings', 'account', 'I', 'want', 'to', 'open', 'Savings', 'acount', 'Can', 'i', 'open', 'Savings', 'account', 'here', '?', 'Is', 'Savings', 'account', 'available', 'here', '?', 'Is', 'Savings', 'account', 'possible', 'Saving', 'account', '?', '?', 'I', 'wan', 'na', 'open', 'an', 'Current', 'account', 'Process', 'for', 'Current', 'account', 'I', 'want', 'to', 'open', 'Current', 'acount', 'Can', 'i', 'open', 'Current', 'account', 'here', '?', 'Is', 'Current', 'account', 'available', 'here', '?', 'Is', 'Current', 'account', 'possible', 'Saving', 'account', '?', '?', 'I', 'wan', 'na', 'open', 'an', 'Global', 'account', 'Process', 'for', 'Global', 'account', 'I', 'want', 'to', 'open', 'Global', 'acount', 'Can', 'i', 'open', 'Global', 'account', 'here', '?', 'Is', 'Global', 'account', 'available', 'here', '?', 'Is', 'Global', 'account', 'possible', 'Global', 'account', '?', '?', 'I', 'wan', 'na', 'open', 'an', 'Minor', 'account', 'Process', 'for', 'Minor', 'account', 'I', 'want', 'to', 'open', 'Minor', 'acount', 'Can', 'i', 'open', 'Minor', 'account', 'here', '?', 'Is', 'Minor', 'account', 'available', 'here', '?', 'Is', 'Minor', 'account', 'possible', 'Minor', 'account', '?', '?', 'I', 'wan', 'na', 'open', 'an', 'joint', 'account', 'Process', 'for', 'joint', 'account', 'I', 'want', 'to', 'open', 'joint', 'acount', 'Can', 'i', 'open', 'joint', 'account', 'here', '?', 'Is', 'joint', 'account', 'available', 'here', '?', 'Is', 'joint', 'account', 'possible', 'joint', 'account', '?', '?', 'I', 'want', 'car', 'loan', 'Can', 'i', 'get', 'education', 'loan', 'process', 'for', 'home', 'laon', 'I', 'need', 'home', 'loan', 'what', 'is', 'the', 'process', 'for', 'car', 'loan', '?', 'Is', 'Rural', 'loan', 'available', 'Loans', 'avaiable', 'in', 'your', 'bank', 'I', 'want', 'personal', 'loan', 'Gold', 'loan', 'is', 'available', '?', 'I', 'want', 'Credit', 'card', 'Wan', 'na', 'Apply', 'for', 'debit', 'card', 'How', 'can', 'apply', 'for', 'Visa', 'card', 'Process', 'for', 'debit', 'card', 'How', 'to', 'get', 'mastercard', 'Your', 'bank', 'provides', 'Mastercard', '?', 'Is', 'credit', 'card', 'available', '?', 'What', 'payment', 'services', 'available', '?', 'Can', 'I', 'use', 'RTGS', 'Is', 'NEFT', 'available', '?', 'Insurance', 'plans', 'are', 'available', '?', 'What', 'types', 'of', 'insurance', 'Insurances', 'like', 'home', 'insurances', 'available', '?', 'Your', 'bank', 'offers', 'what', 'type', 'of', 'insurances', '?', 'Any', 'new', 'types', 'of', 'insurance', '?', 'What', 'hours', 'are', 'you', 'open', '?', 'What', 'are', 'your', 'hours', '?', 'When', 'are', 'you', 'open', '?', 'When', 'can', 'i', 'contact', 'your', 'bank', 'customer', 'care', 'time', 'Bank', 'open', 'time', 'Where', 'are', 'your', 'branches', 'Tell', 'me', 'nearest', 'branch', 'Branch', 'address', 'Can', 'not', 'find', 'bank', 'i', 'can', 'not', 'find', 'your', 'branch', 'Where', 'are', 'your', 'ATMs', 'ATMs', 'locations']\n",
            "labels: ['Welcome', 'Services', ' Savings Account services', ' Current Account services', ' Global Account services', ' Minor Account services', ' joint Account services', 'Loan services', 'Payment services', 'Insurance services', 'Avaiable', 'Branch']\n",
            "docs_x: [['Hi'], ['How', 'are', 'you'], ['Is', 'anyone', 'there', '?'], ['Hello'], ['Namaste'], ['please', 'help'], ['Give', 'me', 'solution'], ['How', 'can', 'you', 'help', 'me', '?'], ['What', 'services', 'can', 'you', 'provide'], ['Tell', 'me', 'something', 'about', 'your', 'bank'], ['Are', 'any', 'services', 'available'], ['i', 'dont', 'think', 'you', 'can', 'help', 'me'], ['You', 'are', 'just', 'a', 'bot', 'how', 'can', 'you', 'help', 'me', '?'], ['I', 'wan', 'na', 'open', 'an', 'Savings', 'account'], ['Process', 'for', 'Savings', 'account'], ['I', 'want', 'to', 'open', 'Savings', 'acount'], ['Can', 'i', 'open', 'Savings', 'account', 'here', '?'], ['Is', 'Savings', 'account', 'available', 'here', '?'], ['Is', 'Savings', 'account', 'possible'], ['Saving', 'account', '?', '?'], ['I', 'wan', 'na', 'open', 'an', 'Current', 'account'], ['Process', 'for', 'Current', 'account'], ['I', 'want', 'to', 'open', 'Current', 'acount'], ['Can', 'i', 'open', 'Current', 'account', 'here', '?'], ['Is', 'Current', 'account', 'available', 'here', '?'], ['Is', 'Current', 'account', 'possible'], ['Saving', 'account', '?', '?'], ['I', 'wan', 'na', 'open', 'an', 'Global', 'account'], ['Process', 'for', 'Global', 'account'], ['I', 'want', 'to', 'open', 'Global', 'acount'], ['Can', 'i', 'open', 'Global', 'account', 'here', '?'], ['Is', 'Global', 'account', 'available', 'here', '?'], ['Is', 'Global', 'account', 'possible'], ['Global', 'account', '?', '?'], ['I', 'wan', 'na', 'open', 'an', 'Minor', 'account'], ['Process', 'for', 'Minor', 'account'], ['I', 'want', 'to', 'open', 'Minor', 'acount'], ['Can', 'i', 'open', 'Minor', 'account', 'here', '?'], ['Is', 'Minor', 'account', 'available', 'here', '?'], ['Is', 'Minor', 'account', 'possible'], ['Minor', 'account', '?', '?'], ['I', 'wan', 'na', 'open', 'an', 'joint', 'account'], ['Process', 'for', 'joint', 'account'], ['I', 'want', 'to', 'open', 'joint', 'acount'], ['Can', 'i', 'open', 'joint', 'account', 'here', '?'], ['Is', 'joint', 'account', 'available', 'here', '?'], ['Is', 'joint', 'account', 'possible'], ['joint', 'account', '?', '?'], ['I', 'want', 'car', 'loan'], ['Can', 'i', 'get', 'education', 'loan'], ['process', 'for', 'home', 'laon'], ['I', 'need', 'home', 'loan'], ['what', 'is', 'the', 'process', 'for', 'car', 'loan', '?'], ['Is', 'Rural', 'loan', 'available'], ['Loans', 'avaiable', 'in', 'your', 'bank'], ['I', 'want', 'personal', 'loan'], ['Gold', 'loan', 'is', 'available', '?'], ['I', 'want', 'Credit', 'card'], ['Wan', 'na', 'Apply', 'for', 'debit', 'card'], ['How', 'can', 'apply', 'for', 'Visa', 'card'], ['Process', 'for', 'debit', 'card'], ['How', 'to', 'get', 'mastercard'], ['Your', 'bank', 'provides', 'Mastercard', '?'], ['Is', 'credit', 'card', 'available', '?'], ['What', 'payment', 'services', 'available', '?'], ['Can', 'I', 'use', 'RTGS'], ['Is', 'NEFT', 'available', '?'], ['Insurance', 'plans', 'are', 'available', '?'], ['What', 'types', 'of', 'insurance'], ['Insurances', 'like', 'home', 'insurances', 'available', '?'], ['Your', 'bank', 'offers', 'what', 'type', 'of', 'insurances', '?'], ['Any', 'new', 'types', 'of', 'insurance', '?'], ['What', 'hours', 'are', 'you', 'open', '?'], ['What', 'are', 'your', 'hours', '?'], ['When', 'are', 'you', 'open', '?'], ['When', 'can', 'i', 'contact', 'your', 'bank'], ['customer', 'care', 'time'], ['Bank', 'open', 'time'], ['Where', 'are', 'your', 'branches'], ['Tell', 'me', 'nearest', 'branch'], ['Branch', 'address'], ['Can', 'not', 'find', 'bank'], ['i', 'can', 'not', 'find', 'your', 'branch'], ['Where', 'are', 'your', 'ATMs'], ['ATMs', 'locations'], ['Bye'], ['Thanks'], ['Atlast'], ['Solved'], ['See', 'you', 'later'], ['Goodbye']], docs_y: ['Welcome', 'Welcome', 'Welcome', 'Welcome', 'Welcome', 'Welcome', 'Welcome', 'Services', 'Services', 'Services', 'Services', 'Services', 'Services', ' Savings Account services', ' Savings Account services', ' Savings Account services', ' Savings Account services', ' Savings Account services', ' Savings Account services', ' Savings Account services', ' Current Account services', ' Current Account services', ' Current Account services', ' Current Account services', ' Current Account services', ' Current Account services', ' Current Account services', ' Global Account services', ' Global Account services', ' Global Account services', ' Global Account services', ' Global Account services', ' Global Account services', ' Global Account services', ' Minor Account services', ' Minor Account services', ' Minor Account services', ' Minor Account services', ' Minor Account services', ' Minor Account services', ' Minor Account services', ' joint Account services', ' joint Account services', ' joint Account services', ' joint Account services', ' joint Account services', ' joint Account services', ' joint Account services', 'Loan services', 'Loan services', 'Loan services', 'Loan services', 'Loan services', 'Loan services', 'Loan services', 'Loan services', 'Loan services', 'Payment services', 'Payment services', 'Payment services', 'Payment services', 'Payment services', 'Payment services', 'Payment services', 'Payment services', 'Payment services', 'Payment services', 'Insurance services', 'Insurance services', 'Insurance services', 'Insurance services', 'Insurance services', 'Avaiable', 'Avaiable', 'Avaiable', 'Avaiable', 'Avaiable', 'Avaiable', 'Branch', 'Branch', 'Branch', 'Branch', 'Branch', 'Branch', 'Branch', 'goodbye', 'goodbye', 'goodbye', 'goodbye', 'goodbye', 'goodbye'], Words: ['Hi', 'How', 'are', 'you', 'Is', 'anyone', 'there', '?', 'Hello', 'Namaste', 'please', 'help', 'Give', 'me', 'solution', 'How', 'can', 'you', 'help', 'me', '?', 'What', 'services', 'can', 'you', 'provide', 'Tell', 'me', 'something', 'about', 'your', 'bank', 'Are', 'any', 'services', 'available', 'i', 'dont', 'think', 'you', 'can', 'help', 'me', 'You', 'are', 'just', 'a', 'bot', 'how', 'can', 'you', 'help', 'me', '?', 'I', 'wan', 'na', 'open', 'an', 'Savings', 'account', 'Process', 'for', 'Savings', 'account', 'I', 'want', 'to', 'open', 'Savings', 'acount', 'Can', 'i', 'open', 'Savings', 'account', 'here', '?', 'Is', 'Savings', 'account', 'available', 'here', '?', 'Is', 'Savings', 'account', 'possible', 'Saving', 'account', '?', '?', 'I', 'wan', 'na', 'open', 'an', 'Current', 'account', 'Process', 'for', 'Current', 'account', 'I', 'want', 'to', 'open', 'Current', 'acount', 'Can', 'i', 'open', 'Current', 'account', 'here', '?', 'Is', 'Current', 'account', 'available', 'here', '?', 'Is', 'Current', 'account', 'possible', 'Saving', 'account', '?', '?', 'I', 'wan', 'na', 'open', 'an', 'Global', 'account', 'Process', 'for', 'Global', 'account', 'I', 'want', 'to', 'open', 'Global', 'acount', 'Can', 'i', 'open', 'Global', 'account', 'here', '?', 'Is', 'Global', 'account', 'available', 'here', '?', 'Is', 'Global', 'account', 'possible', 'Global', 'account', '?', '?', 'I', 'wan', 'na', 'open', 'an', 'Minor', 'account', 'Process', 'for', 'Minor', 'account', 'I', 'want', 'to', 'open', 'Minor', 'acount', 'Can', 'i', 'open', 'Minor', 'account', 'here', '?', 'Is', 'Minor', 'account', 'available', 'here', '?', 'Is', 'Minor', 'account', 'possible', 'Minor', 'account', '?', '?', 'I', 'wan', 'na', 'open', 'an', 'joint', 'account', 'Process', 'for', 'joint', 'account', 'I', 'want', 'to', 'open', 'joint', 'acount', 'Can', 'i', 'open', 'joint', 'account', 'here', '?', 'Is', 'joint', 'account', 'available', 'here', '?', 'Is', 'joint', 'account', 'possible', 'joint', 'account', '?', '?', 'I', 'want', 'car', 'loan', 'Can', 'i', 'get', 'education', 'loan', 'process', 'for', 'home', 'laon', 'I', 'need', 'home', 'loan', 'what', 'is', 'the', 'process', 'for', 'car', 'loan', '?', 'Is', 'Rural', 'loan', 'available', 'Loans', 'avaiable', 'in', 'your', 'bank', 'I', 'want', 'personal', 'loan', 'Gold', 'loan', 'is', 'available', '?', 'I', 'want', 'Credit', 'card', 'Wan', 'na', 'Apply', 'for', 'debit', 'card', 'How', 'can', 'apply', 'for', 'Visa', 'card', 'Process', 'for', 'debit', 'card', 'How', 'to', 'get', 'mastercard', 'Your', 'bank', 'provides', 'Mastercard', '?', 'Is', 'credit', 'card', 'available', '?', 'What', 'payment', 'services', 'available', '?', 'Can', 'I', 'use', 'RTGS', 'Is', 'NEFT', 'available', '?', 'Insurance', 'plans', 'are', 'available', '?', 'What', 'types', 'of', 'insurance', 'Insurances', 'like', 'home', 'insurances', 'available', '?', 'Your', 'bank', 'offers', 'what', 'type', 'of', 'insurances', '?', 'Any', 'new', 'types', 'of', 'insurance', '?', 'What', 'hours', 'are', 'you', 'open', '?', 'What', 'are', 'your', 'hours', '?', 'When', 'are', 'you', 'open', '?', 'When', 'can', 'i', 'contact', 'your', 'bank', 'customer', 'care', 'time', 'Bank', 'open', 'time', 'Where', 'are', 'your', 'branches', 'Tell', 'me', 'nearest', 'branch', 'Branch', 'address', 'Can', 'not', 'find', 'bank', 'i', 'can', 'not', 'find', 'your', 'branch', 'Where', 'are', 'your', 'ATMs', 'ATMs', 'locations', 'Bye', 'Thanks', 'Atlast', 'Solved', 'See', 'you', 'later', 'Goodbye']\n",
            "labels: ['Welcome', 'Services', ' Savings Account services', ' Current Account services', ' Global Account services', ' Minor Account services', ' joint Account services', 'Loan services', 'Payment services', 'Insurance services', 'Avaiable', 'Branch', 'goodbye']\n"
          ]
        }
      ]
    },
    {
      "cell_type": "code",
      "source": [
        "words"
      ],
      "metadata": {
        "id": "mmvgspKA02sO",
        "colab": {
          "base_uri": "https://localhost:8080/"
        },
        "outputId": "b7466585-1c7e-4a7d-e3bf-3ad5ddb5a939"
      },
      "execution_count": null,
      "outputs": [
        {
          "output_type": "execute_result",
          "data": {
            "text/plain": [
              "['a',\n",
              " 'about',\n",
              " 'account',\n",
              " 'acount',\n",
              " 'address',\n",
              " 'an',\n",
              " 'any',\n",
              " 'anyon',\n",
              " 'apply',\n",
              " 'ar',\n",
              " 'atlast',\n",
              " 'atm',\n",
              " 'avail',\n",
              " 'avay',\n",
              " 'bank',\n",
              " 'bot',\n",
              " 'branch',\n",
              " 'bye',\n",
              " 'can',\n",
              " 'car',\n",
              " 'card',\n",
              " 'contact',\n",
              " 'credit',\n",
              " 'cur',\n",
              " 'custom',\n",
              " 'debit',\n",
              " 'dont',\n",
              " 'educ',\n",
              " 'find',\n",
              " 'for',\n",
              " 'get',\n",
              " 'giv',\n",
              " 'glob',\n",
              " 'gold',\n",
              " 'goodby',\n",
              " 'hello',\n",
              " 'help',\n",
              " 'her',\n",
              " 'hi',\n",
              " 'hom',\n",
              " 'hour',\n",
              " 'how',\n",
              " 'i',\n",
              " 'in',\n",
              " 'ins',\n",
              " 'is',\n",
              " 'joint',\n",
              " 'just',\n",
              " 'laon',\n",
              " 'lat',\n",
              " 'lik',\n",
              " 'loan',\n",
              " 'loc',\n",
              " 'mastercard',\n",
              " 'me',\n",
              " 'min',\n",
              " 'na',\n",
              " 'namast',\n",
              " 'nearest',\n",
              " 'nee',\n",
              " 'neft',\n",
              " 'new',\n",
              " 'not',\n",
              " 'of',\n",
              " 'off',\n",
              " 'op',\n",
              " 'pay',\n",
              " 'person',\n",
              " 'plan',\n",
              " 'pleas',\n",
              " 'poss',\n",
              " 'process',\n",
              " 'provid',\n",
              " 'rtgs',\n",
              " 'rur',\n",
              " 'sav',\n",
              " 'see',\n",
              " 'serv',\n",
              " 'solv',\n",
              " 'someth',\n",
              " 'tel',\n",
              " 'thank',\n",
              " 'the',\n",
              " 'ther',\n",
              " 'think',\n",
              " 'tim',\n",
              " 'to',\n",
              " 'typ',\n",
              " 'us',\n",
              " 'vis',\n",
              " 'wan',\n",
              " 'want',\n",
              " 'what',\n",
              " 'when',\n",
              " 'wher',\n",
              " 'yo',\n",
              " 'you']"
            ]
          },
          "metadata": {},
          "execution_count": 14
        }
      ]
    },
    {
      "cell_type": "code",
      "source": [
        "out_empty"
      ],
      "metadata": {
        "id": "rkRk7D295Cz8",
        "colab": {
          "base_uri": "https://localhost:8080/"
        },
        "outputId": "bbfc3d9d-c70c-4002-b7d8-82365800022c"
      },
      "execution_count": null,
      "outputs": [
        {
          "output_type": "execute_result",
          "data": {
            "text/plain": [
              "[0, 0, 0, 0, 0, 0, 0, 0, 0, 0, 0, 0, 0]"
            ]
          },
          "metadata": {},
          "execution_count": 15
        }
      ]
    },
    {
      "cell_type": "code",
      "source": [
        "for x, doc in enumerate(docs_x):\n",
        "  print(f'x : {x}, doc : {doc}')"
      ],
      "metadata": {
        "id": "XoC9fSwZJ9tj",
        "colab": {
          "base_uri": "https://localhost:8080/"
        },
        "outputId": "9c9eab42-bca6-4a48-c382-53af1edee0f8"
      },
      "execution_count": null,
      "outputs": [
        {
          "output_type": "stream",
          "name": "stdout",
          "text": [
            "x : 0, doc : ['Hi']\n",
            "x : 1, doc : ['How', 'are', 'you']\n",
            "x : 2, doc : ['Is', 'anyone', 'there', '?']\n",
            "x : 3, doc : ['Hello']\n",
            "x : 4, doc : ['Namaste']\n",
            "x : 5, doc : ['please', 'help']\n",
            "x : 6, doc : ['Give', 'me', 'solution']\n",
            "x : 7, doc : ['How', 'can', 'you', 'help', 'me', '?']\n",
            "x : 8, doc : ['What', 'services', 'can', 'you', 'provide']\n",
            "x : 9, doc : ['Tell', 'me', 'something', 'about', 'your', 'bank']\n",
            "x : 10, doc : ['Are', 'any', 'services', 'available']\n",
            "x : 11, doc : ['i', 'dont', 'think', 'you', 'can', 'help', 'me']\n",
            "x : 12, doc : ['You', 'are', 'just', 'a', 'bot', 'how', 'can', 'you', 'help', 'me', '?']\n",
            "x : 13, doc : ['I', 'wan', 'na', 'open', 'an', 'Savings', 'account']\n",
            "x : 14, doc : ['Process', 'for', 'Savings', 'account']\n",
            "x : 15, doc : ['I', 'want', 'to', 'open', 'Savings', 'acount']\n",
            "x : 16, doc : ['Can', 'i', 'open', 'Savings', 'account', 'here', '?']\n",
            "x : 17, doc : ['Is', 'Savings', 'account', 'available', 'here', '?']\n",
            "x : 18, doc : ['Is', 'Savings', 'account', 'possible']\n",
            "x : 19, doc : ['Saving', 'account', '?', '?']\n",
            "x : 20, doc : ['I', 'wan', 'na', 'open', 'an', 'Current', 'account']\n",
            "x : 21, doc : ['Process', 'for', 'Current', 'account']\n",
            "x : 22, doc : ['I', 'want', 'to', 'open', 'Current', 'acount']\n",
            "x : 23, doc : ['Can', 'i', 'open', 'Current', 'account', 'here', '?']\n",
            "x : 24, doc : ['Is', 'Current', 'account', 'available', 'here', '?']\n",
            "x : 25, doc : ['Is', 'Current', 'account', 'possible']\n",
            "x : 26, doc : ['Saving', 'account', '?', '?']\n",
            "x : 27, doc : ['I', 'wan', 'na', 'open', 'an', 'Global', 'account']\n",
            "x : 28, doc : ['Process', 'for', 'Global', 'account']\n",
            "x : 29, doc : ['I', 'want', 'to', 'open', 'Global', 'acount']\n",
            "x : 30, doc : ['Can', 'i', 'open', 'Global', 'account', 'here', '?']\n",
            "x : 31, doc : ['Is', 'Global', 'account', 'available', 'here', '?']\n",
            "x : 32, doc : ['Is', 'Global', 'account', 'possible']\n",
            "x : 33, doc : ['Global', 'account', '?', '?']\n",
            "x : 34, doc : ['I', 'wan', 'na', 'open', 'an', 'Minor', 'account']\n",
            "x : 35, doc : ['Process', 'for', 'Minor', 'account']\n",
            "x : 36, doc : ['I', 'want', 'to', 'open', 'Minor', 'acount']\n",
            "x : 37, doc : ['Can', 'i', 'open', 'Minor', 'account', 'here', '?']\n",
            "x : 38, doc : ['Is', 'Minor', 'account', 'available', 'here', '?']\n",
            "x : 39, doc : ['Is', 'Minor', 'account', 'possible']\n",
            "x : 40, doc : ['Minor', 'account', '?', '?']\n",
            "x : 41, doc : ['I', 'wan', 'na', 'open', 'an', 'joint', 'account']\n",
            "x : 42, doc : ['Process', 'for', 'joint', 'account']\n",
            "x : 43, doc : ['I', 'want', 'to', 'open', 'joint', 'acount']\n",
            "x : 44, doc : ['Can', 'i', 'open', 'joint', 'account', 'here', '?']\n",
            "x : 45, doc : ['Is', 'joint', 'account', 'available', 'here', '?']\n",
            "x : 46, doc : ['Is', 'joint', 'account', 'possible']\n",
            "x : 47, doc : ['joint', 'account', '?', '?']\n",
            "x : 48, doc : ['I', 'want', 'car', 'loan']\n",
            "x : 49, doc : ['Can', 'i', 'get', 'education', 'loan']\n",
            "x : 50, doc : ['process', 'for', 'home', 'laon']\n",
            "x : 51, doc : ['I', 'need', 'home', 'loan']\n",
            "x : 52, doc : ['what', 'is', 'the', 'process', 'for', 'car', 'loan', '?']\n",
            "x : 53, doc : ['Is', 'Rural', 'loan', 'available']\n",
            "x : 54, doc : ['Loans', 'avaiable', 'in', 'your', 'bank']\n",
            "x : 55, doc : ['I', 'want', 'personal', 'loan']\n",
            "x : 56, doc : ['Gold', 'loan', 'is', 'available', '?']\n",
            "x : 57, doc : ['I', 'want', 'Credit', 'card']\n",
            "x : 58, doc : ['Wan', 'na', 'Apply', 'for', 'debit', 'card']\n",
            "x : 59, doc : ['How', 'can', 'apply', 'for', 'Visa', 'card']\n",
            "x : 60, doc : ['Process', 'for', 'debit', 'card']\n",
            "x : 61, doc : ['How', 'to', 'get', 'mastercard']\n",
            "x : 62, doc : ['Your', 'bank', 'provides', 'Mastercard', '?']\n",
            "x : 63, doc : ['Is', 'credit', 'card', 'available', '?']\n",
            "x : 64, doc : ['What', 'payment', 'services', 'available', '?']\n",
            "x : 65, doc : ['Can', 'I', 'use', 'RTGS']\n",
            "x : 66, doc : ['Is', 'NEFT', 'available', '?']\n",
            "x : 67, doc : ['Insurance', 'plans', 'are', 'available', '?']\n",
            "x : 68, doc : ['What', 'types', 'of', 'insurance']\n",
            "x : 69, doc : ['Insurances', 'like', 'home', 'insurances', 'available', '?']\n",
            "x : 70, doc : ['Your', 'bank', 'offers', 'what', 'type', 'of', 'insurances', '?']\n",
            "x : 71, doc : ['Any', 'new', 'types', 'of', 'insurance', '?']\n",
            "x : 72, doc : ['What', 'hours', 'are', 'you', 'open', '?']\n",
            "x : 73, doc : ['What', 'are', 'your', 'hours', '?']\n",
            "x : 74, doc : ['When', 'are', 'you', 'open', '?']\n",
            "x : 75, doc : ['When', 'can', 'i', 'contact', 'your', 'bank']\n",
            "x : 76, doc : ['customer', 'care', 'time']\n",
            "x : 77, doc : ['Bank', 'open', 'time']\n",
            "x : 78, doc : ['Where', 'are', 'your', 'branches']\n",
            "x : 79, doc : ['Tell', 'me', 'nearest', 'branch']\n",
            "x : 80, doc : ['Branch', 'address']\n",
            "x : 81, doc : ['Can', 'not', 'find', 'bank']\n",
            "x : 82, doc : ['i', 'can', 'not', 'find', 'your', 'branch']\n",
            "x : 83, doc : ['Where', 'are', 'your', 'ATMs']\n",
            "x : 84, doc : ['ATMs', 'locations']\n",
            "x : 85, doc : ['Bye']\n",
            "x : 86, doc : ['Thanks']\n",
            "x : 87, doc : ['Atlast']\n",
            "x : 88, doc : ['Solved']\n",
            "x : 89, doc : ['See', 'you', 'later']\n",
            "x : 90, doc : ['Goodbye']\n"
          ]
        }
      ]
    },
    {
      "cell_type": "code",
      "source": [
        "orow = out_empty[:]"
      ],
      "metadata": {
        "id": "3yLMDwGELh3D"
      },
      "execution_count": null,
      "outputs": []
    },
    {
      "cell_type": "code",
      "source": [
        "print(orow)"
      ],
      "metadata": {
        "id": "6CTK0GPOLk3k",
        "colab": {
          "base_uri": "https://localhost:8080/"
        },
        "outputId": "47ebbeea-56f1-4c14-81b6-6af59acde14a"
      },
      "execution_count": null,
      "outputs": [
        {
          "output_type": "stream",
          "name": "stdout",
          "text": [
            "[0, 0, 0, 0, 0, 0, 0, 0, 0, 0, 0, 0, 0]\n"
          ]
        }
      ]
    },
    {
      "cell_type": "code",
      "source": [
        "for x, doc in enumerate(docs_x):\n",
        "  bag = []\n",
        "  wrds = [stemmer.stem(w.lower()) for w in doc]\n",
        "  for w in words:\n",
        "      if w in wrds:\n",
        "          bag.append(1)\n",
        "      else:\n",
        "          bag.append(0)\n",
        "\n",
        "  output_row = out_empty[:]\n",
        "  output_row[labels.index(docs_y[x])] = 1\n",
        "  ##docs_y[x]\n",
        "  ## x = 0\n",
        "  ## docs_y[0] ==>> 'greeting'\n",
        "  ##labels.index('greetings')==>0\n",
        "  ## output_row [0] = 1\n",
        "\n",
        "  training.append(bag)\n",
        "  output.append(output_row)\n"
      ],
      "metadata": {
        "id": "vCi2vKOHzobJ"
      },
      "execution_count": null,
      "outputs": []
    },
    {
      "cell_type": "code",
      "source": [
        "print(f'Training : {training[0]}, Output: {output[0]}')"
      ],
      "metadata": {
        "id": "NuyG98_yOD3J",
        "colab": {
          "base_uri": "https://localhost:8080/"
        },
        "outputId": "e8859d39-fa74-4a28-bc29-27a0e1546b15"
      },
      "execution_count": null,
      "outputs": [
        {
          "output_type": "stream",
          "name": "stdout",
          "text": [
            "Training : [0, 0, 0, 0, 0, 0, 0, 0, 0, 0, 0, 0, 0, 0, 0, 0, 0, 0, 0, 0, 0, 0, 0, 0, 0, 0, 0, 0, 0, 0, 0, 0, 0, 0, 0, 0, 0, 0, 1, 0, 0, 0, 0, 0, 0, 0, 0, 0, 0, 0, 0, 0, 0, 0, 0, 0, 0, 0, 0, 0, 0, 0, 0, 0, 0, 0, 0, 0, 0, 0, 0, 0, 0, 0, 0, 0, 0, 0, 0, 0, 0, 0, 0, 0, 0, 0, 0, 0, 0, 0, 0, 0, 0, 0, 0, 0, 0], Output: [0, 0, 0, 0, 0, 0, 0, 0, 0, 0, 0, 1, 0]\n"
          ]
        }
      ]
    },
    {
      "cell_type": "code",
      "source": [
        "training = numpy.array(training)\n",
        "output = numpy.array(output)"
      ],
      "metadata": {
        "id": "9qPAHLwSzoey"
      },
      "execution_count": null,
      "outputs": []
    },
    {
      "cell_type": "code",
      "source": [
        "\n",
        "tensorflow.compat.v1.reset_default_graph()\n",
        "\n",
        "net = tflearn.input_data(shape=[None, len(training[0])])\n",
        "net = tflearn.fully_connected(net, 10)\n",
        "net = tflearn.fully_connected(net, 10)\n",
        "\n",
        "net = tflearn.fully_connected(net, len(output[0]), activation=\"softmax\")\n",
        "net = tflearn.regression(net)"
      ],
      "metadata": {
        "id": "A8zP2_Kbzogc",
        "colab": {
          "base_uri": "https://localhost:8080/"
        },
        "outputId": "1bfe8d16-be19-4eca-81f2-2a1ff4efe6cd"
      },
      "execution_count": null,
      "outputs": [
        {
          "output_type": "stream",
          "name": "stdout",
          "text": [
            "WARNING:tensorflow:From /usr/local/lib/python3.7/dist-packages/tflearn/initializations.py:165: calling TruncatedNormal.__init__ (from tensorflow.python.ops.init_ops) with dtype is deprecated and will be removed in a future version.\n",
            "Instructions for updating:\n",
            "Call initializer instance with the dtype argument instead of passing it to the constructor\n"
          ]
        }
      ]
    },
    {
      "cell_type": "code",
      "source": [
        "model = tflearn.DNN(net)\n",
        "model.fit(training, output, n_epoch=1500, batch_size=8, show_metric=True)\n",
        "# "
      ],
      "metadata": {
        "id": "97psCMJazokh",
        "colab": {
          "base_uri": "https://localhost:8080/"
        },
        "outputId": "51a9d1bf-ba8a-4661-a8d0-de65533a9e9d"
      },
      "execution_count": null,
      "outputs": [
        {
          "output_type": "stream",
          "name": "stdout",
          "text": [
            "Training Step: 17999  | total loss: \u001b[1m\u001b[32m0.03471\u001b[0m\u001b[0m | time: 0.128s\n",
            "| Adam | epoch: 1500 | loss: 0.03471 - acc: 0.9583 -- iter: 88/91\n",
            "Training Step: 18000  | total loss: \u001b[1m\u001b[32m0.03151\u001b[0m\u001b[0m | time: 0.135s\n",
            "| Adam | epoch: 1500 | loss: 0.03151 - acc: 0.9624 -- iter: 91/91\n",
            "--\n"
          ]
        }
      ]
    },
    {
      "cell_type": "code",
      "source": [
        "model.save(\"model.tflearn\")"
      ],
      "metadata": {
        "colab": {
          "base_uri": "https://localhost:8080/"
        },
        "id": "XfjGcUyOB_PQ",
        "outputId": "00542417-47aa-463f-d136-b6c8cb90bbcf"
      },
      "execution_count": null,
      "outputs": [
        {
          "output_type": "stream",
          "name": "stdout",
          "text": [
            "INFO:tensorflow:/content/drive/MyDrive/Datasets/model.tflearn is not in all_model_checkpoint_paths. Manually adding it.\n"
          ]
        }
      ]
    },
    {
      "cell_type": "code",
      "source": [
        "def bag_of_words(s, words):\n",
        "    bag = [0 for _ in range(len(words))]\n",
        "\n",
        "    s_words = nltk.word_tokenize(s)\n",
        "    s_words = [stemmer.stem(word.lower()) for word in s_words]\n",
        "\n",
        "    for se in s_words:\n",
        "        for i, w in enumerate(words):\n",
        "            if w == se:\n",
        "                bag[i] = 1\n",
        "            \n",
        "    return numpy.array(bag)"
      ],
      "metadata": {
        "id": "6AihXovnzomF"
      },
      "execution_count": null,
      "outputs": []
    },
    {
      "cell_type": "code",
      "source": [
        "def chat():\n",
        "    print(\"Start talking with the bot (type quit to stop)!\")\n",
        "    while True:\n",
        "        inp = input(\"You: \")\n",
        "        if inp.lower() == \"bye\":\n",
        "            break\n",
        "\n",
        "        results = model.predict([bag_of_words(inp, words)])\n",
        "        print(results)\n",
        "        results_index = numpy.argmax(results)\n",
        "        print(results_index)\n",
        "        tag = labels[results_index]\n",
        "\n",
        "        for tg in data[\"intents\"]:\n",
        "            if tg['tag'] == tag:\n",
        "                responses = tg['responses']\n",
        "\n",
        "        print(random.choice(responses))"
      ],
      "metadata": {
        "id": "BwEBkrvdzon6"
      },
      "execution_count": null,
      "outputs": []
    },
    {
      "cell_type": "code",
      "source": [
        "chat()"
      ],
      "metadata": {
        "id": "iU7THNau9jxb",
        "colab": {
          "base_uri": "https://localhost:8080/"
        },
        "outputId": "e4a6235b-e964-4633-8644-7b5f079ac50e"
      },
      "execution_count": null,
      "outputs": [
        {
          "name": "stdout",
          "output_type": "stream",
          "text": [
            "Start talking with the bot (type quit to stop)!\n",
            "You: hello\n",
            "[[6.91633943e-07 3.61166985e-09 1.11616886e-04 3.13158006e-11\n",
            "  9.38963463e-10 4.51000960e-04 2.30553141e-03 2.14236859e-08\n",
            "  5.07463072e-10 3.83765564e-06 2.14350919e-04 9.94448781e-01\n",
            "  2.46423902e-03]]\n",
            "11\n",
            " how can I help?\n",
            "You: how can you help me\n",
            "[[1.9527528e-26 8.1510355e-27 2.1184428e-16 4.6202479e-29 1.2331925e-20\n",
            "  2.2102220e-05 5.3878565e-04 9.9241925e-20 2.9057048e-15 2.5146425e-09\n",
            "  9.9831045e-01 1.1286869e-03 3.5458396e-18]]\n",
            "10\n",
            "I will help you the best way Following Services are available Account services, Payment services, Insurance services,Loan services, Investment plans and many more\n",
            "You: ok\n",
            "[[0.03036044 0.0012885  0.15340936 0.00082563 0.00165406 0.01097297\n",
            "  0.0373751  0.0008618  0.00081463 0.02445451 0.00703287 0.54397357\n",
            "  0.18697661]]\n",
            "11\n",
            " how can I help?\n",
            "You: i wanna open an savings account\n",
            "[[1.1929107e-03 1.2976992e-04 4.0825037e-07 9.9787223e-01 8.0174825e-04\n",
            "  9.7323313e-16 1.8332209e-14 1.8290805e-08 2.9887140e-06 5.1217541e-09\n",
            "  3.1158181e-16 8.6865807e-16 1.0146360e-09]]\n",
            "3\n",
            "Absolutely possible ! this is the process for Savings account https://www.hdfcbank.com/personal/save/accounts/savings-accounts?utm_source=branch_locator&utm_medium=external_link\n",
            "You: is minor account  available here\n",
            "[[6.5147050e-04 7.5597681e-11 9.9820864e-01 1.8446564e-06 6.7535887e-04\n",
            "  3.5039635e-15 4.5156671e-06 1.4760315e-14 1.3685220e-09 4.5800078e-04\n",
            "  3.4870093e-11 1.6823913e-07 1.8781565e-08]]\n",
            "2\n",
            "Absolutely possible ! this is the process for Minor account https://www.hdfcbank.com/personal/save/accounts/savings-accounts?utm_source=branch_locator&utm_medium=external_link\n",
            "You: can you show me available insurance plans\n",
            "[[8.1074646e-21 4.9410337e-10 3.3832975e-26 1.4609898e-18 1.1658443e-23\n",
            "  9.9800652e-01 3.5684625e-18 1.9934848e-03 1.0408765e-12 3.4479966e-21\n",
            "  1.6573837e-09 1.5363745e-12 1.0335932e-10]]\n",
            "5\n",
            "Our bank are open everday except sunday from 9am to 5pm\n",
            "You: what insurance plans available\n",
            "[[7.9947801e-14 2.3485406e-03 1.4508688e-24 8.6509799e-11 1.4969559e-20\n",
            "  1.5980120e-05 9.6167343e-24 9.9763536e-01 1.3951439e-12 8.1800695e-24\n",
            "  3.9246742e-17 1.2377692e-17 7.4173911e-08]]\n",
            "7\n",
            "Following are the insurance types - Life insurance, vehicle insurance, Health insurance, Cyber insurance and other as well https://www.hdfcbank.com/personal/insure/life-insurance/pension-plans\n",
            "You: ok\n",
            "[[0.03036044 0.0012885  0.15340936 0.00082563 0.00165406 0.01097297\n",
            "  0.0373751  0.0008618  0.00081463 0.02445451 0.00703287 0.54397357\n",
            "  0.18697661]]\n",
            "11\n",
            "Namaste how can i help you\n",
            "You: what types of loans\n",
            "[[2.3929235e-11 1.3745811e-03 5.3968903e-18 3.7854315e-09 2.6097197e-15\n",
            "  1.4729597e-02 6.9034456e-16 9.8389107e-01 1.3888747e-08 2.6639530e-16\n",
            "  1.7619974e-10 1.9647792e-11 4.6752061e-06]]\n",
            "7\n",
            "Following are the insurance types - Life insurance, vehicle insurance, Health insurance, Cyber insurance and other as well https://www.hdfcbank.com/personal/insure/life-insurance/pension-plans\n",
            "You: loans available\n",
            "[[2.6095903e-04 3.2017445e-03 3.1831104e-04 1.4044336e-02 1.1091187e-02\n",
            "  2.4588637e-02 9.5615472e-04 1.9719474e-02 8.7016761e-01 3.3081394e-02\n",
            "  2.1591861e-02 7.0628506e-04 2.7208962e-04]]\n",
            "8\n",
            "Loans available are Car loan, Personal loan, education loan, business loan, Rural loan, Gold loan https://www.hdfcbank.com/personal/borrow/popular-loans\n",
            "You: customer care\n",
            "[[1.8829091e-06 1.2768379e-04 6.7715729e-07 6.3552466e-07 1.1961464e-07\n",
            "  9.6449107e-01 9.4866991e-05 9.4849849e-03 8.4806030e-05 9.2058744e-06\n",
            "  7.3849275e-03 1.3816691e-02 4.5024790e-03]]\n",
            "5\n",
            "you can visit us except sunday from 9am to 5pm\n",
            "You: available branch time\n",
            "[[2.7991480e-16 2.6015058e-19 7.3058359e-08 5.1708316e-19 5.7769779e-12\n",
            "  5.1967859e-06 3.5090640e-01 8.1665554e-16 1.4031111e-10 3.4271763e-04\n",
            "  5.5642015e-01 9.2325471e-02 2.1051201e-12]]\n",
            "10\n",
            "Be calm i can help you Following Services are available Account services, Payment services, Insurance service,Loan services, Investment plans and many more\n",
            "You: branch location\n",
            "[[1.2014600e-22 1.0071669e-31 1.0284064e-07 3.3589797e-28 1.9278311e-15\n",
            "  4.7502522e-15 9.9794668e-01 4.4579934e-29 7.1852457e-18 1.8263271e-04\n",
            "  5.0855853e-04 1.3620248e-03 1.5844262e-20]]\n",
            "6\n",
            "Be calm and find our centers https://near-me.hdfcbank.com/branch-atm-locator/\n",
            "You: ATMs\n",
            "[[4.3608339e-10 6.3413418e-15 4.0960959e-03 7.8230266e-13 5.3204622e-07\n",
            "  7.4719111e-08 8.5735333e-01 4.1822059e-14 2.0547226e-08 6.3553452e-02\n",
            "  1.0085783e-02 6.4910777e-02 1.7392887e-09]]\n",
            "6\n",
            "we are at this much places https://near-me.hdfcbank.com/branch-atm-locator/\n",
            "You: thanlyou\n",
            "[[0.03036044 0.0012885  0.15340936 0.00082563 0.00165406 0.01097297\n",
            "  0.0373751  0.0008618  0.00081463 0.02445451 0.00703287 0.54397357\n",
            "  0.18697661]]\n",
            "11\n",
            "Namaste how can i help you\n",
            "You: bye\n"
          ]
        }
      ]
    },
    {
      "cell_type": "code",
      "source": [
        ""
      ],
      "metadata": {
        "id": "Ymy9siSozovp"
      },
      "execution_count": null,
      "outputs": []
    },
    {
      "cell_type": "code",
      "source": [
        ""
      ],
      "metadata": {
        "id": "DjOIMhSizo08"
      },
      "execution_count": null,
      "outputs": []
    },
    {
      "cell_type": "code",
      "source": [
        ""
      ],
      "metadata": {
        "id": "bZWAMIAfzE7p"
      },
      "execution_count": null,
      "outputs": []
    }
  ]
}